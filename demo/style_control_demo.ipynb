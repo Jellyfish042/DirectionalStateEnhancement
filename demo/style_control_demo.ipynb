{
 "cells": [
  {
   "cell_type": "code",
   "execution_count": 1,
   "metadata": {
    "ExecuteTime": {
     "end_time": "2023-11-27T12:19:40.547935500Z",
     "start_time": "2023-11-27T12:19:37.020154Z"
    },
    "tags": []
   },
   "outputs": [
    {
     "name": "stderr",
     "output_type": "stream",
     "text": [
      "Using /root/.cache/torch_extensions/py38_cu118 as PyTorch extensions root...\n",
      "Detected CUDA files, patching ldflags\n",
      "Emitting ninja build file /root/.cache/torch_extensions/py38_cu118/wkv_cuda/build.ninja...\n",
      "Building extension module wkv_cuda...\n",
      "Allowing ninja to set a default number of workers... (overridable by setting the environment variable MAX_JOBS=N)\n",
      "Loading extension module wkv_cuda...\n"
     ]
    },
    {
     "name": "stdout",
     "output_type": "stream",
     "text": [
      "ninja: no work to do.\n"
     ]
    }
   ],
   "source": [
    "import os\n",
    "import sys\n",
    "\n",
    "current_dir = os.getcwd()\n",
    "parent_parent_dir = os.path.abspath(os.path.join(current_dir, \"../eval\", \"..\"))\n",
    "sys.path.append(parent_parent_dir)\n",
    "\n",
    "from state_control.controllable_rwkv import VectorControlRWKV, ContrastControlRWKV\n",
    "import ipywidgets as widgets\n",
    "from IPython.display import display"
   ]
  },
  {
   "cell_type": "code",
   "execution_count": 2,
   "metadata": {
    "ExecuteTime": {
     "end_time": "2023-11-27T12:19:40.562943700Z",
     "start_time": "2023-11-27T12:19:40.547935500Z"
    },
    "collapsed": false,
    "jupyter": {
     "outputs_hidden": false
    },
    "tags": []
   },
   "outputs": [],
   "source": [
    "MODEL_PATH = r'../../models/RWKV-5-World-1B5-v2-20231025-ctx4096'"
   ]
  },
  {
   "cell_type": "code",
   "execution_count": 3,
   "metadata": {
    "ExecuteTime": {
     "end_time": "2023-11-27T12:19:52.658432600Z",
     "start_time": "2023-11-27T12:19:40.563944600Z"
    },
    "collapsed": false,
    "jupyter": {
     "outputs_hidden": false
    },
    "tags": []
   },
   "outputs": [
    {
     "name": "stdout",
     "output_type": "stream",
     "text": [
      "RWKV_JIT_ON 1 RWKV_CUDA_ON 1 RESCALE_LAYER 6\n",
      "\n",
      "Loading ../../models/RWKV-5-World-1B5-v2-20231025-ctx4096.pth ...\n",
      "Strategy: (total 24+1=25 layers)\n",
      "* cuda [float16, float16], store 25 layers\n",
      "0-cuda-float16-float16 1-cuda-float16-float16 2-cuda-float16-float16 3-cuda-float16-float16 4-cuda-float16-float16 5-cuda-float16-float16 6-cuda-float16-float16 7-cuda-float16-float16 8-cuda-float16-float16 9-cuda-float16-float16 10-cuda-float16-float16 11-cuda-float16-float16 12-cuda-float16-float16 13-cuda-float16-float16 14-cuda-float16-float16 15-cuda-float16-float16 16-cuda-float16-float16 17-cuda-float16-float16 18-cuda-float16-float16 19-cuda-float16-float16 20-cuda-float16-float16 21-cuda-float16-float16 22-cuda-float16-float16 23-cuda-float16-float16 24-cuda-float16-float16 \n",
      "emb.weight                        f16      cpu  65536  2048 \n",
      "blocks.0.ln1.weight               f16   cuda:0   2048       \n",
      "blocks.0.ln1.bias                 f16   cuda:0   2048       \n",
      "blocks.0.ln2.weight               f16   cuda:0   2048       \n",
      "blocks.0.ln2.bias                 f16   cuda:0   2048       \n",
      "blocks.0.att.time_mix_k           f16   cuda:0   2048       \n",
      "blocks.0.att.time_mix_v           f16   cuda:0   2048       \n",
      "blocks.0.att.time_mix_r           f16   cuda:0   2048       \n",
      "blocks.0.att.time_mix_g           f16   cuda:0   2048       \n",
      "blocks.0.att.time_decay           f32   cuda:0     32    64 \n",
      "blocks.0.att.time_first           f32   cuda:0     32    64 \n",
      "blocks.0.att.receptance.weight    f16   cuda:0   2048  2048 \n",
      "blocks.0.att.key.weight           f16   cuda:0   2048  2048 \n",
      "blocks.0.att.value.weight         f16   cuda:0   2048  2048 \n",
      "blocks.0.att.output.weight        f16   cuda:0   2048  2048 \n",
      "blocks.0.att.gate.weight          f16   cuda:0   2048  2048 \n",
      "blocks.0.att.ln_x.weight          f32   cuda:0   2048       \n",
      "blocks.0.att.ln_x.bias            f32   cuda:0   2048       \n",
      "blocks.0.ffn.time_mix_k           f16   cuda:0   2048       \n",
      "blocks.0.ffn.time_mix_r           f16   cuda:0   2048       \n",
      "blocks.0.ffn.key.weight           f16   cuda:0   2048  7168 \n",
      "blocks.0.ffn.receptance.weight    f16   cuda:0   2048  2048 \n",
      "blocks.0.ffn.value.weight         f16   cuda:0   7168  2048 \n",
      "....................................................................................................................................................................................................................................................................................................................................................................................................................................................................................................\n",
      "blocks.23.ln1.weight              f16   cuda:0   2048       \n",
      "blocks.23.ln1.bias                f16   cuda:0   2048       \n",
      "blocks.23.ln2.weight              f16   cuda:0   2048       \n",
      "blocks.23.ln2.bias                f16   cuda:0   2048       \n",
      "blocks.23.att.time_mix_k          f16   cuda:0   2048       \n",
      "blocks.23.att.time_mix_v          f16   cuda:0   2048       \n",
      "blocks.23.att.time_mix_r          f16   cuda:0   2048       \n",
      "blocks.23.att.time_mix_g          f16   cuda:0   2048       \n",
      "blocks.23.att.time_decay          f32   cuda:0     32    64 \n",
      "blocks.23.att.time_first          f32   cuda:0     32    64 \n",
      "blocks.23.att.receptance.weight   f16   cuda:0   2048  2048 \n",
      "blocks.23.att.key.weight          f16   cuda:0   2048  2048 \n",
      "blocks.23.att.value.weight        f16   cuda:0   2048  2048 \n",
      "blocks.23.att.output.weight       f16   cuda:0   2048  2048 \n",
      "blocks.23.att.gate.weight         f16   cuda:0   2048  2048 \n",
      "blocks.23.att.ln_x.weight         f32   cuda:0   2048       \n",
      "blocks.23.att.ln_x.bias           f32   cuda:0   2048       \n",
      "blocks.23.ffn.time_mix_k          f16   cuda:0   2048       \n",
      "blocks.23.ffn.time_mix_r          f16   cuda:0   2048       \n",
      "blocks.23.ffn.key.weight          f16   cuda:0   2048  7168 \n",
      "blocks.23.ffn.receptance.weight   f16   cuda:0   2048  2048 \n",
      "blocks.23.ffn.value.weight        f16   cuda:0   7168  2048 \n",
      "ln_out.weight                     f16   cuda:0   2048       \n",
      "ln_out.bias                       f16   cuda:0   2048       \n",
      "head.weight                       f16   cuda:0   2048 65536 \n"
     ]
    },
    {
     "name": "stderr",
     "output_type": "stream",
     "text": [
      "Using /root/.cache/torch_extensions/py38_cu118 as PyTorch extensions root...\n",
      "Detected CUDA files, patching ldflags\n",
      "Emitting ninja build file /root/.cache/torch_extensions/py38_cu118/rwkv5/build.ninja...\n",
      "Building extension module rwkv5...\n",
      "Allowing ninja to set a default number of workers... (overridable by setting the environment variable MAX_JOBS=N)\n",
      "Loading extension module rwkv5...\n"
     ]
    },
    {
     "name": "stdout",
     "output_type": "stream",
     "text": [
      "ninja: no work to do.\n"
     ]
    }
   ],
   "source": [
    "model = VectorControlRWKV(MODEL_PATH)"
   ]
  },
  {
   "cell_type": "markdown",
   "metadata": {},
   "source": [
    "### Language Control Demo\n",
    "##### Here, we demonstrate the model's capability to control the generated language (Chinese/English) using directional vectors."
   ]
  },
  {
   "cell_type": "markdown",
   "metadata": {},
   "source": [
    "First, we construct pairs of prompt words that have the same meaning but are in different languages, providing the model with directions towards various languages."
   ]
  },
  {
   "cell_type": "code",
   "execution_count": 4,
   "metadata": {
    "ExecuteTime": {
     "end_time": "2023-11-27T12:19:52.673442700Z",
     "start_time": "2023-11-27T12:19:52.660433300Z"
    },
    "collapsed": false,
    "jupyter": {
     "outputs_hidden": false
    },
    "tags": []
   },
   "outputs": [],
   "source": [
    "pos_str_list = ['这是一个句子', '这句话可以是没有任何意义的']\n",
    "neg_str_list = ['Here is a sentence', 'This sentence can be meaningless.']"
   ]
  },
  {
   "cell_type": "markdown",
   "metadata": {},
   "source": [
    "Tokenize the sentences and then update the control vectors."
   ]
  },
  {
   "cell_type": "code",
   "execution_count": 5,
   "metadata": {
    "ExecuteTime": {
     "end_time": "2023-11-27T12:19:58.668768200Z",
     "start_time": "2023-11-27T12:19:52.673442700Z"
    },
    "collapsed": false,
    "jupyter": {
     "outputs_hidden": false
    },
    "tags": []
   },
   "outputs": [
    {
     "name": "stderr",
     "output_type": "stream",
     "text": [
      "/root/miniconda3/lib/python3.8/site-packages/rwkv/model.py:971: UserWarning: operator() profile_node %187 : int = prim::profile_ivalue(%output_dtype.7)\n",
      " does not have profile information (Triggered internally at ../third_party/nvfuser/csrc/graph_fuser.cpp:104.)\n",
      "  x, state[offset] = FFN(\n"
     ]
    }
   ],
   "source": [
    "pos_ids_list = [model.tokenizer.encode(x) for x in pos_str_list]\n",
    "neg_ids_list = [model.tokenizer.encode(x) for x in neg_str_list]\n",
    "\n",
    "model.update(pos_ids_list, neg_ids_list)"
   ]
  },
  {
   "cell_type": "markdown",
   "metadata": {},
   "source": [
    "We create a slider to easily adjust the value of the control factor.\n",
    "You can adjust the slider to see how the control effect changes."
   ]
  },
  {
   "cell_type": "code",
   "execution_count": 6,
   "metadata": {
    "ExecuteTime": {
     "end_time": "2023-11-27T12:19:58.682771300Z",
     "start_time": "2023-11-27T12:19:58.668768200Z"
    },
    "collapsed": false,
    "jupyter": {
     "outputs_hidden": false
    },
    "tags": []
   },
   "outputs": [
    {
     "data": {
      "application/vnd.jupyter.widget-view+json": {
       "model_id": "2e1c03ec9a6649e98380a44232c1a922",
       "version_major": 2,
       "version_minor": 0
      },
      "text/plain": [
       "FloatSlider(value=0.0, description='Coeff:', max=1.5, min=-1.2, step=0.01)"
      ]
     },
     "metadata": {},
     "output_type": "display_data"
    }
   ],
   "source": [
    "language_control_slider = widgets.FloatSlider(\n",
    "    value=0,\n",
    "    min=-1.2,\n",
    "    max=1.5,\n",
    "    step=0.01,\n",
    "    description='Coeff:',\n",
    "    orientation='horizontal',\n",
    ")\n",
    "\n",
    "display(language_control_slider)"
   ]
  },
  {
   "cell_type": "code",
   "execution_count": 7,
   "metadata": {
    "ExecuteTime": {
     "end_time": "2023-11-27T12:20:01.965658900Z",
     "start_time": "2023-11-27T12:19:58.683771600Z"
    },
    "collapsed": false,
    "jupyter": {
     "outputs_hidden": false
    },
    "tags": []
   },
   "outputs": [
    {
     "name": "stdout",
     "output_type": "stream",
     "text": [
      "\n",
      "A man was walking down the street when he saw a woman crying. He asked her what was wrong, and she said she had just lost her job. The man felt sorry for her and asked if he could help her in any way. The\n"
     ]
    }
   ],
   "source": [
    "test_input = \"\\nHere is a story:\"\n",
    "\n",
    "input_ids = model.tokenizer.encode(test_input)\n",
    "output_ids = model.generate(input_ids, control_coeff=language_control_slider.value, max_length=50, top_k=1)\n",
    "print(model.tokenizer.decode(output_ids))"
   ]
  },
  {
   "cell_type": "markdown",
   "metadata": {},
   "source": [
    "You can try both from English to Chinese and from Chinese to English"
   ]
  },
  {
   "cell_type": "code",
   "execution_count": null,
   "metadata": {},
   "outputs": [],
   "source": []
  },
  {
   "cell_type": "code",
   "execution_count": null,
   "metadata": {},
   "outputs": [],
   "source": []
  },
  {
   "cell_type": "code",
   "execution_count": null,
   "metadata": {},
   "outputs": [],
   "source": []
  },
  {
   "cell_type": "code",
   "execution_count": null,
   "metadata": {},
   "outputs": [],
   "source": []
  },
  {
   "cell_type": "markdown",
   "metadata": {},
   "source": [
    "### output format control\n",
    "##### Next, we will show how to manipulate the model's output format to output content in Python list."
   ]
  },
  {
   "cell_type": "code",
   "execution_count": 8,
   "metadata": {
    "ExecuteTime": {
     "end_time": "2023-11-27T12:27:23.437067200Z",
     "start_time": "2023-11-27T12:27:23.416063200Z"
    },
    "collapsed": false,
    "jupyter": {
     "outputs_hidden": false
    },
    "tags": []
   },
   "outputs": [],
   "source": [
    "neg_str_list = [\n",
    "    \"The cat sat on the mat.\",\n",
    "    \"It is raining heavily outside.\",\n",
    "    \"Learning new languages can be fun and challenging.\",\n",
    "    \"Space exploration offers great opportunities for scientific advancement.\",\n",
    "    \"Healthy eating contributes to overall wellness.\"\n",
    "]\n",
    "\n",
    "pos_str_list = [\n",
    "    \"['The', 'cat', 'sat', 'on', 'the', 'mat.']\",\n",
    "    \"['It', 'is', 'raining', 'heavily', 'outside.']\",\n",
    "    \"['Learning', 'new', 'languages', 'can', 'be', 'fun', 'and', 'challenging.']\",\n",
    "    \"['Space', 'exploration', 'offers', 'great', 'opportunities', 'for', 'scientific', 'advancement.']\",\n",
    "    \"['Healthy', 'eating', 'contributes', 'to', 'overall', 'wellness.']\"\n",
    "]"
   ]
  },
  {
   "cell_type": "code",
   "execution_count": 9,
   "metadata": {
    "ExecuteTime": {
     "end_time": "2023-11-27T12:27:25.804895100Z",
     "start_time": "2023-11-27T12:27:23.665307700Z"
    },
    "collapsed": false,
    "jupyter": {
     "outputs_hidden": false
    },
    "tags": []
   },
   "outputs": [],
   "source": [
    "pos_ids_list = [model.tokenizer.encode(x) for x in pos_str_list]\n",
    "neg_ids_list = [model.tokenizer.encode(x) for x in neg_str_list]\n",
    "\n",
    "model.update(pos_ids_list, neg_ids_list)"
   ]
  },
  {
   "cell_type": "code",
   "execution_count": 10,
   "metadata": {
    "ExecuteTime": {
     "end_time": "2023-11-27T12:27:25.820899200Z",
     "start_time": "2023-11-27T12:27:25.807896800Z"
    },
    "collapsed": false,
    "jupyter": {
     "outputs_hidden": false
    },
    "tags": []
   },
   "outputs": [
    {
     "data": {
      "application/vnd.jupyter.widget-view+json": {
       "model_id": "3ea9646c4b1b4115a7e2256a4e82b890",
       "version_major": 2,
       "version_minor": 0
      },
      "text/plain": [
       "FloatSlider(value=0.0, description='Coeff:', max=2.0, step=0.01)"
      ]
     },
     "metadata": {},
     "output_type": "display_data"
    }
   ],
   "source": [
    "control_slider = widgets.FloatSlider(\n",
    "    value=0,\n",
    "    min=0.,\n",
    "    max=2.0,\n",
    "    step=0.01,\n",
    "    description='Coeff:',\n",
    "    orientation='horizontal',\n",
    ")\n",
    "\n",
    "display(control_slider)"
   ]
  },
  {
   "cell_type": "markdown",
   "metadata": {},
   "source": [
    "Adjust the slider to see how the control effect changes."
   ]
  },
  {
   "cell_type": "code",
   "execution_count": 11,
   "metadata": {
    "ExecuteTime": {
     "end_time": "2023-11-27T12:32:54.183434600Z",
     "start_time": "2023-11-27T12:32:52.069635900Z"
    },
    "collapsed": false,
    "jupyter": {
     "outputs_hidden": false
    },
    "tags": []
   },
   "outputs": [
    {
     "name": "stdout",
     "output_type": "stream",
     "text": [
      " 1. Albert Einstein\n",
      "2. Isaac Newton\n",
      "3. Galileo Galilei\n",
      "4. James Clerk Maxwell\n",
      "5. Louis Pasteur\n",
      "6. Charles Darwin\n",
      "7. Marie Curie\n",
      "8. Albert Einstein\n",
      "9. Richard Feyn\n"
     ]
    }
   ],
   "source": [
    "test_input = \"\\nUser: List 10 well-known physicists.\\n\\nAssistant:\"\n",
    "\n",
    "input_ids = model.tokenizer.encode(test_input)\n",
    "output_ids = model.generate(input_ids, control_coeff=control_slider.value, max_length=50, top_k=1)\n",
    "print(model.tokenizer.decode(output_ids))"
   ]
  },
  {
   "cell_type": "markdown",
   "metadata": {},
   "source": [
    "### Control of Emotion in Model Output\n",
    "##### Next, we show how we control the emotions in the model."
   ]
  },
  {
   "cell_type": "code",
   "execution_count": 12,
   "metadata": {
    "ExecuteTime": {
     "end_time": "2023-11-26T10:54:17.420335800Z",
     "start_time": "2023-11-26T10:54:17.374324900Z"
    },
    "collapsed": false,
    "jupyter": {
     "outputs_hidden": false
    },
    "tags": []
   },
   "outputs": [],
   "source": [
    "pos_str_list = [\n",
    "    \"Question: How was your day?\\n\\nAnswer: It was fantastic, full of exciting opportunities!\",\n",
    "    \"Question: Did you enjoy your meal?\\n\\nAnswer: Absolutely, it was delicious and satisfying!\",\n",
    "    \"Question: Are you looking forward to the weekend?\\n\\nAnswer: Definitely, I have so many fun plans!\",\n",
    "    \"Question: How do you feel about your job?\\n\\nAnswer: I love it, it's challenging and rewarding!\",\n",
    "    \"Question: Did you like the movie?\\n\\nAnswer: Yes, it was entertaining and thought-provoking!\",\n",
    "    \"Question: How's the weather today?\\n\\nAnswer: It's lovely, sunny and warm!\",\n",
    "    \"Question: Are you happy with your new phone?\\n\\nAnswer: Absolutely, it has amazing features!\",\n",
    "    \"Question: Did you enjoy your vacation?\\n\\nAnswer: Yes, it was relaxing and fun!\",\n",
    "    \"Question: How do you feel about the future?\\n\\nAnswer: I'm optimistic, there are so many possibilities!\",\n",
    "    \"Question: Are you satisfied with your current living situation?\\n\\nAnswer: Yes, I'm very comfortable and content!\"\n",
    "]\n",
    "\n",
    "neg_str_list = [\n",
    "    \"Question: How was your day?\\n\\nAnswer: It was terrible, nothing went right.\",\n",
    "    \"Question: Did you enjoy your meal?\\n\\nAnswer: Not at all, it was bland and unappetizing.\",\n",
    "    \"Question: Are you looking forward to the weekend?\\n\\nAnswer: Not really, I have nothing interesting to do.\",\n",
    "    \"Question: How do you feel about your job?\\n\\nAnswer: I dislike it, it's stressful and unrewarding.\",\n",
    "    \"Question: Did you like the movie?\\n\\nAnswer: No, it was boring and poorly made.\",\n",
    "    \"Question: How's the weather today?\\n\\nAnswer: It's dreadful, cold and rainy.\",\n",
    "    \"Question: Are you happy with your new phone?\\n\\nAnswer: Not at all, it's complicated and glitchy.\",\n",
    "    \"Question: Did you enjoy your vacation?\\n\\nAnswer: No, it was stressful and unenjoyable.\",\n",
    "    \"Question: How do you feel about the future?\\n\\nAnswer: I'm pessimistic, things seem uncertain and scary.\",\n",
    "    \"Question: Are you satisfied with your current living situation?\\n\\nAnswer: No, I'm unhappy and looking for a change.\"\n",
    "]"
   ]
  },
  {
   "cell_type": "code",
   "execution_count": 13,
   "metadata": {
    "ExecuteTime": {
     "end_time": "2023-11-26T10:54:18.858837200Z",
     "start_time": "2023-11-26T10:54:17.390330500Z"
    },
    "collapsed": false,
    "jupyter": {
     "outputs_hidden": false
    },
    "tags": []
   },
   "outputs": [],
   "source": [
    "pos_ids_list = [model.tokenizer.encode(x) for x in pos_str_list]\n",
    "neg_ids_list = [model.tokenizer.encode(x) for x in neg_str_list]\n",
    "\n",
    "model.update(pos_ids_list, neg_ids_list)"
   ]
  },
  {
   "cell_type": "code",
   "execution_count": 14,
   "metadata": {
    "ExecuteTime": {
     "end_time": "2023-11-26T10:54:18.874839500Z",
     "start_time": "2023-11-26T10:54:18.855836100Z"
    },
    "collapsed": false,
    "jupyter": {
     "outputs_hidden": false
    },
    "tags": []
   },
   "outputs": [
    {
     "data": {
      "application/vnd.jupyter.widget-view+json": {
       "model_id": "771a0981f2d74272a8516def6dd32026",
       "version_major": 2,
       "version_minor": 0
      },
      "text/plain": [
       "FloatSlider(value=0.0, description='Coeff:', max=1.0, min=-1.0, step=0.01)"
      ]
     },
     "metadata": {},
     "output_type": "display_data"
    }
   ],
   "source": [
    "control_slider = widgets.FloatSlider(\n",
    "    value=0,\n",
    "    min=-1.0,\n",
    "    max=1.0,\n",
    "    step=0.01,\n",
    "    description='Coeff:',\n",
    "    orientation='horizontal',\n",
    ")\n",
    "\n",
    "display(control_slider)"
   ]
  },
  {
   "cell_type": "markdown",
   "metadata": {},
   "source": [
    "Adjust the slider to see how the control effect changes."
   ]
  },
  {
   "cell_type": "code",
   "execution_count": 15,
   "metadata": {
    "ExecuteTime": {
     "end_time": "2023-11-26T10:54:33.432699800Z",
     "start_time": "2023-11-26T10:54:31.981195400Z"
    },
    "collapsed": false,
    "jupyter": {
     "outputs_hidden": false
    },
    "tags": []
   },
   "outputs": [
    {
     "name": "stdout",
     "output_type": "stream",
     "text": [
      " is so much better now. I'm not depressed anymore. I'm not sad anymore. I'm not angry anymore. I'm not frustrated anymore. I'm not angry at anyone. I'm not angry at myself. I'm not angry at my\n"
     ]
    }
   ],
   "source": [
    "test_input = \"\\nMy mood\"\n",
    "\n",
    "input_ids = model.tokenizer.encode(test_input)\n",
    "output_ids = model.generate(input_ids, control_coeff=control_slider.value, max_length=50, top_k=1)\n",
    "print(model.tokenizer.decode(output_ids))"
   ]
  },
  {
   "cell_type": "code",
   "execution_count": 16,
   "metadata": {
    "tags": []
   },
   "outputs": [],
   "source": [
    "# 实验部分"
   ]
  },
  {
   "cell_type": "code",
   "execution_count": 27,
   "metadata": {
    "tags": []
   },
   "outputs": [],
   "source": [
    "import pickle\n",
    "# 从文件加载字符串列表\n",
    "def load_string_list(filename):\n",
    "    with open(filename, 'rb') as file:\n",
    "        string_list = pickle.load(file)\n",
    "    return string_list\n",
    "def save_data(string_list, filename):\n",
    "    with open(filename, 'wb') as file:\n",
    "        pickle.dump(string_list, file)"
   ]
  },
  {
   "cell_type": "code",
   "execution_count": 18,
   "metadata": {
    "tags": []
   },
   "outputs": [],
   "source": [
    "lambada_data = load_string_list('lambada.pkl')"
   ]
  },
  {
   "cell_type": "code",
   "execution_count": null,
   "metadata": {
    "scrolled": true,
    "tags": []
   },
   "outputs": [
    {
     "name": "stdout",
     "output_type": "stream",
     "text": [
      "0 ('In my palm is a clear stone, and inside it is a small ivory statuette. A guardian angel.\\n\\n\"Figured if you\\'re going to', ' be a guardian angel, you might as well be a guardian angel of the right kind.\"\\n\\n\"I\\'m not sure I understand.\"\\n\\n\"You\\'re not')\n",
      "--------------------------------------------------\n",
      "1 ('Give me a minute to change and I\\'ll meet you at the docks.\" She\\'d forced those words through her teeth.\\n\\n\"No need to change.', ' I\\'ll be there in a few minutes.\"\\n\\n\"I\\'ll be waiting.\"\\n\\nShe\\'d been waiting for a few minutes when he finally arrived. He\\'d')\n",
      "--------------------------------------------------\n",
      "2 ('\"Only one source I know of that would be likely to cough up enough money to finance a phony sleep research facility and pay people big bucks to solve crimes', ',\" said the man. \"And that\\'s the FBI.\"\\n\\n\"I don\\'t know about that,\" said the woman. \"I think it\\'s more likely')\n",
      "--------------------------------------------------\n",
      "3 (\"Helen's heart broke a little in the face of Miss Mabel's selfless courage. She thought that because she was old, her life was of less\", ' value than that of a young girl. She was wrong. Helen was not going to let her go. She would not let her go. She would not let')\n",
      "--------------------------------------------------\n",
      "4 (\"Preston had been the last person to wear those chains, and I knew what I'd see and feel if they were slipped onto my skin-the Reaper\", '\\'s mark.\\n\\n\"I\\'m not going to let you do this,\" I said, my voice shaking.\\n\\n\"You don\\'t have a choice,\" Preston')\n",
      "--------------------------------------------------\n",
      "5 ('She knew that Basha was a decent young man, that he was pretty sweet and friendly with her. Jawen knew they had a bit of a history,', \" but she didn't know what it was. She didn't know what he was doing in the city, or why he was there. She didn't know what\")\n",
      "--------------------------------------------------\n",
      "6 ('He heard Rhinna speak “The Queen wants you in her carriage.” \\nTom spoke “No, I’m not going in some asylum.” \\nRan', ' spoke “You have no choice, you are going.” \\nTom spoke “I’m not going.” \\nRan spoke “You are going.” \\nTom spoke')\n",
      "--------------------------------------------------\n",
      "7 ('There was no way he would come here on his own. \\nHe ordered a cup of coffee, and then we just sat in silence. \\n“So,”', ' he said, “you’re a doctor?” \\n“Yes,” I said. “I’m a doctor.” \\n“You’re a doctor?” he asked.')\n",
      "--------------------------------------------------\n",
      "8 ('“Why?”\\n“I would have thought you’d find him rather dry,” she said.\\n“I don’t know about that,” said Gabriel.\\n“He', '’s not,” said the woman. “He’s a bit of a bore, but he’s a good man. He’s a good man, and he’s')\n",
      "--------------------------------------------------\n",
      "9 ('Both its sun-speckled shade and the cool grass beneath were a welcome respite after the stifling kitchen, and I was glad to relax against', ' the cool stone.\\n\\n\"I\\'m sorry,\" I said. \"I didn\\'t mean to be so rude.\"\\n\\n\"It\\'s all right,\" she said')\n",
      "--------------------------------------------------\n",
      "10 ('Escorting drunk humans out of the bar is different from going up against a tiger-wildcat who eats raw steak for breakfast and is dying for a fight.\"', '\\n\\n\"I\\'m not escorting anyone out of the bar,\" I said. \"I\\'m just going to get a drink.\"\\n\\n\"You\\'re not going')\n",
      "--------------------------------------------------\n",
      "11 (\"Instead, I stare straight ahead like I'm deeply interested in what's going on at the front of the room.\\n\\nEventually, we make it through to the\", \" front of the room. I'm not sure what I'm supposed to do, but I'm pretty sure I'm supposed to stand up and say something.\\n\\n\")\n",
      "--------------------------------------------------\n",
      "12 ('Recall our encounter with the warbirds at the Federation border. Confirm my memory with yours.”\\nShe turned Seren to face her. They placed their foreheads', ' together, and Seren closed her eyes.\\n“You are a very beautiful woman, Seren. I have never seen a woman like you before. You')\n",
      "--------------------------------------------------\n",
      "13 ('I was so happy to see him that I almost sobbed his name.\\nEli stiffened and let out a hiss. “Mohiri!” Fear', ' and anger warred in his eyes.\\n“Eli, it’s okay. I’m here.” I reached out to him, but he flinched')\n",
      "--------------------------------------------------\n",
      "14 ('\"Come on, baby girl,\" Mary Jo said, scooping up the toy, then bending to retrieve her daughter. \"Let me change your diaper and', ' then we\\'ll go get some ice cream.\"\\n\\n\"Okay,\" the little girl said, her eyes wide with excitement.\\n\\nMary Jo smiled and kissed her daughter')\n",
      "--------------------------------------------------\n",
      "15 ('I would really like to have some time with my mom.\"\\n\\nLucien groaned inwardly. How could he say no to that? Julia was grieving', ', and he was the only one who could help her.\\n\\n\"I\\'ll be right back,\" he said, and he left the room.\\n\\nHe returned')\n",
      "--------------------------------------------------\n",
      "16 ('If Demerzel has the ability to change minds, he has to do so without bringing about side effects he does not wish-and since he is the Emperor', \", he can do that.\\n-\\n*The Legend of Zelda: Breath of the Wild*:\\n- The game's main antagonist, Ganon\")\n",
      "--------------------------------------------------\n",
      "17 ('I leaned out the window and pointed at Floyd’s hearing aid.\\nFloyd dug the hearing aid out of his ear and made an adjustment. “Sorry,”', ' he said. “I’m not used to wearing it.”\\n“You’re not the only one,” I said. “I’ve been wearing this thing for')\n",
      "--------------------------------------------------\n",
      "18 ('‘Well I don’t know why, Nellie showed it to me many times. It has heaps of her poems and short stories in it; mostly girl', 'y stuff, but there are a few poems about boys and men. I think she was trying to get me to read them, but I never did. I')\n",
      "--------------------------------------------------\n",
      "19 ('\"We\\'ll wait for you, Daddy,\" Izzy said, snuggling up to Annie.\\n\\nNick pressed the book into Izzy\\'s hands and hurried out', ' of the room.\\n\\n\"I\\'m sorry, Izzy,\" Annie said. \"I know you wanted to read it.\"\\n\\n\"I know, Mommy')\n",
      "--------------------------------------------------\n",
      "20 ('\"Michael wanted nothing to do with the business for a very long time,\" the older woman answered. \"He had his heart set on being a race-car', ' driver, but he was never very good at it. He was a good driver, but he was never very good at the business. He was a good driver')\n",
      "--------------------------------------------------\n",
      "21 ('A cowboy behind her said to break up a cheese slice and mush it down in the mixture.  Sarah took a slice of cheese to do just that.', '  She put it in her mouth and chewed.  She then took a bite of the cheese and swallowed it.  She then took another bite of the')\n",
      "--------------------------------------------------\n",
      "22 ('Brayden\\'s face was a mix of incredulity and disappointment when I told him I had to leave.\\n\\n\"But you just... I mean...\"', '\\n\\n\"I know, I know. I\\'m sorry. I\\'ll see you tomorrow.\"\\n\\n\"Wait, I\\'ll walk you to the door.\"\\n\\n\"')\n",
      "--------------------------------------------------\n",
      "23 ('\"Thank you,\" Liz says, her sweaty face going into my neck. \"I\\'m so tired.\"\\n\\n\"As soon as this is over, you', ' can go to bed,\" I say, kissing her forehead.\\n\\n\"I\\'m not tired,\" she says, her voice muffled.\\n\\n\"You are,\"')\n",
      "--------------------------------------------------\n",
      "24 ('Olaf slapped the boy real hard. Bob was momentarily stunned. Olaf then started yelling at him about calling him without permission unless it was emergency. The', ' boy was so scared he ran away. Olaf then went back to his room and went to sleep.\\n\\nThe next day, Olaf was still angry.')\n",
      "--------------------------------------------------\n",
      "25 ('Instead, its twin towers, now horizontal so as to appear like walkways, loomed over the deck of the Hercules, and the black ship stopped impossibly', ' close to the side of the giant, its engines idling.\\n\\n\"What the hell is that?\"\\n\\n\"It\\'s a ship,\" said the captain.')\n",
      "--------------------------------------------------\n",
      "26 ('She kisses me again.\\n\\n\"Oh-kay!\" Jen whistles. \"Can we go now? I don\\'t wanna break up the lovey', '-dovey moment.\"\\n\\n\"I\\'m not in love with her,\" I say. \"I\\'m just in love with her.\"\\n\\n\"You\\'re in')\n",
      "--------------------------------------------------\n",
      "27 ('His smile widened. “I’ll keep it a secret.”\\n“Thank you.”\\n“Can you play?”\\n“Grace taught me how to play', ' the piano.”\\n“Oh, that’s good. I’m not very good at it.”\\n“You’re not?”\\n“Well, I’m not')\n",
      "--------------------------------------------------\n",
      "28 (\"Now, they were opening cans of pork & beans and eating them cold. As to why they didn't heat them up first, it took some prying but\", ' they finally got it out of the old man.\\n\"I don\\'t know,\" he said. \"I guess they didn\\'t want to waste the oil.\"')\n",
      "--------------------------------------------------\n",
      "29 (\"I wasn't interested in helping, because I knew it was hopeless. Carla was six feet into a snowdrift almost as tall as my head, and\", ' I was just a kid. I was just a kid. I was just a kid. I was just a kid. I was just a kid. I was')\n",
      "--------------------------------------------------\n",
      "30 ('She doesn’t like to talk about it.” Sara looked at Joshua.\\n“Give her time,” he said gently. “It’s only been a few months', '.”\\n“She’s been through a lot,” Sara said. “I don’t think she’s ready to talk about it.”\\n“She’s not ready')\n",
      "--------------------------------------------------\n",
      "31 ('“But I can be anything you want.”\\nKim and Izzy rolled their eyes.\\nWhat a character. From his scruffy jeans and threadbare T', '-shirt to his\\nunwashed hair and his worn-out sneakers, he looked like a homeless man.\\nBut he was a man who had')\n",
      "--------------------------------------------------\n",
      "32 ('the boy said, looking proud of every word.\\n\"Go on, James,\" the boy behind him said. Some of the other boys had already headed into', ' the\\nwoods.\\n\"I\\'m going to go find my mom,\" James said.\\n\"Okay,\" the boy behind him said. \"I\\'ll be')\n",
      "--------------------------------------------------\n",
      "33 ('Twice Jeremy managed to avoid cars spinning out of control, and the number of vehicles that littered the roads was unreal. She was probably just as tired and', ' exhausted as he was, but she was still determined to get to the hospital.\\n\\n\"I\\'m sorry, Jeremy,\" she said, her voice barely above a')\n",
      "--------------------------------------------------\n",
      "34 ('so i do not have to tell you the pressures of doing business.”\\n“pardon me?”\\n“i said, you own your own store –”', '\\n“i do not own my own store.”\\n“you do not own your own store –”\\n“i do not own my own store.”\\n')\n",
      "--------------------------------------------------\n",
      "35 ('Dylan of the Shed, you are named Guardian of the Portal, do you accept this Quest to protect the portal?”\\n“I guess.”\\n“Do', ' you accept this Quest to protect the portal?”\\n“Yes.”\\n“Do you accept this Quest to protect the portal?”\\n“Yes.”\\n“Do')\n",
      "--------------------------------------------------\n",
      "36 ('\"Clear as a bell,\" she said with more than a little sarcasm. \"So where are Mr. Zellerbach and the RV?\"\\n\\n\"In', ' the back,\" he said. \"I\\'m going to go get them.\"\\n\\n\"I\\'ll come with you,\" she said.\\n\\n\"No, you stay')\n",
      "--------------------------------------------------\n",
      "37 ('We only want to talk to you.”\\nIshmael briefly wondered who lied, the soldier or the President, or perhaps neither, but he reached up,', ' and pulled the man’s face down to his.\\n“You’re not going to get away with this,” the soldier said, and then he was gone.')\n",
      "--------------------------------------------------\n",
      "38 ('I used to give Asher and Trevor a hard time about the way they acted when they both met their one...now I knew. I would die for Lil', 'ly. I would die for Asher. I would die for Trevor. I would die for my family. I would die for my friends. I would die')\n",
      "--------------------------------------------------\n",
      "39 ('Ellen asked him.\\n\\n\"Yes, indeed,\" Mark said. \"Several.\"\\n\\n\"Have you ever made a list?\"\\n\\n\"I can\\'t say', ' that I have.\"\\n\\n\"Well, I have,\" Ellen said. \"I\\'ve made a list of all the things I\\'ve ever\\ndone that I\\'m')\n",
      "--------------------------------------------------\n",
      "40 ('The second biker had dismounted and was hanging his helmet on the handlebars of his motorcycle when he caught sight of Joran. Without breaking eye contact,', ' he walked over to Joran and said, \"I\\'m sorry, but I can\\'t let you go.\"\\n\\nJoran looked at the biker, who')\n",
      "--------------------------------------------------\n",
      "41 ('The bat\\'s gums were pulled back over his teeth in a snarl. \"I do not take orders from you, Overlander. Let us be clear', ' on this point.\"\\n\\n\"I\\'m not asking you to take orders from me,\" I said. \"I\\'m asking you to take orders from the people who')\n",
      "--------------------------------------------------\n",
      "42 (\"They just would have argued with me about it like they always do. And then, when I didn't eat my lunch? Well, you would have thought that\", \" I was a little bit crazy. I mean, I'm not crazy, but I'm not exactly normal either. I'm not a normal person. I'm\")\n",
      "--------------------------------------------------\n",
      "43 ('She and Zach were covered in dust and sweat when Helen found them. \"Wow, Lexi! You rock.\"\\n\\nLexi groaned at the bad pun', '. \"I\\'m not a rock, I\\'m a rocker.\"\\n\\n\"You\\'re a rocker, a rocker, a rocker, a rock')\n",
      "--------------------------------------------------\n",
      "44 ('\"That’s what I said, and I meant it,\" Bob answers.\\n\"Think of something else.\" Greg says. He turns around in the front seat', ' and looks at me. \"You know, I think I’m going to have to take you to the hospital.\"\\n\"I’m fine,\" I say.')\n",
      "--------------------------------------------------\n",
      "45 ('\"We could go back,\"I suggested weakly. \"Tel them their magical road thingie didn\\'t work for us.\"\\n\\nBut Jenna shook her head.', ' \"No, we can\\'t. We have to go on. We have to find the others.\"\\n\\n\"But what if they\\'re dead?\" I asked.')\n",
      "--------------------------------------------------\n",
      "46 ('His gentle voice did me in. Tears seeped from my eyes. I had to make them stop. Big, bad werewolf hunters did not cry.', ' I was a strong girl. I was not going to cry. I was not going to cry. I was not going to cry. I was not going to')\n",
      "--------------------------------------------------\n",
      "47 ('\"If you wanted me to have a happy birthday, you\\'d come over to my party. \"\\n\\n\"Your party,\" I repeated flatly.\\n\\n\"', \"Yeah, my party. I'm not going to be here for it. I'm going to be in the hospital. I'm going to be in a coma\")\n",
      "--------------------------------------------------\n",
      "48 (\"I'd have felt sorry for her if my own nerves hadn't been stretched to the breaking point.\\n\\nWe said nothing for a while. Mum looked out the\", ' window, and I looked out the window.\\n\\n\"I\\'m sorry,\" I said.\\n\\n\"Don\\'t be,\" she said. \"I\\'m sorry.\"')\n",
      "--------------------------------------------------\n",
      "49 ('More and more creepy zombie- looking ghosts would reach out of the waters to try and grab onto the boat.    \\nThe boat came to a stop at a dock', '. The boat was now in the middle of the lake. The boat was now in the middle of the lake. The boat was now in the middle of the')\n",
      "--------------------------------------------------\n",
      "50 ('The whole mechanism looked rather like a combined television and video player might look, if it had been invented and built three hundred years ago by Sir Isaac Newton. Which', ', of course, it had.\\n\\n\"I\\'m sorry, I don\\'t know what you\\'re talking about,\" I said.\\n\\n\"I\\'m talking about')\n",
      "--------------------------------------------------\n",
      "51 ('Mike drove for fear that Jake was so nervous he would get another ticket before he got to the driver’s licensing facility.\\nHe walked with Jake into the building', ' and they went to the front desk.\\n“Hi, I’m here to get my driver’s license,” Jake said.\\nThe woman behind the desk looked')\n",
      "--------------------------------------------------\n",
      "52 ('I\\'m just used to working, so me not working is messing with my head. I love being home with both the kids, but...\" she trails off', '.\\n\\n\"You\\'re not alone, you know that, right?\"\\n\\n\"I know, but I\\'m not used to it. I\\'m used to being')\n",
      "--------------------------------------------------\n",
      "53 ('In the diagram, he pinched to the left of him, where the ground would be, and pulled up a trail of yellow that formed itself into a seat', '. He sat down, and the seat began to move. It was a chair, but it was a chair that was moving. It was a chair that was')\n",
      "--------------------------------------------------\n",
      "54 (\"`You're all crazy if you think I'll pose as a Krull refugee to do your bidding,' said Luke.  After all I heard tonight I'll\", \" be glad to get out of this place.  I'm not going to be a slave to any of you.'\\n'You'll do as you're told\")\n",
      "--------------------------------------------------\n",
      "55 ('Now seemed like as terrible a time as any to trade out my worries that Gregory had somehow found out about the Garzas – or the vain hope that Zach could', ' somehow find a way to get me out of this mess.\\n\\n\"I\\'m sorry,\" I said. \"I\\'m sorry I didn\\'t tell you about the')\n",
      "--------------------------------------------------\n",
      "56 ('Bryn smirked as she said loudly, “Have a nice day.”  Kayla’s step did not even falter.  She just continued walking', '.  Bryn was about to say something else when she heard a voice behind her.  “Hey, Bryn.”  Bryn turned around and saw')\n",
      "--------------------------------------------------\n",
      "57 ('I just need to grab my things and we can go.\"\\n\\nShe took another step back and bumped into a body. \"Chloe, sorry,\" she', ' said, looking up at the man.\\n\\n\"It\\'s okay,\" he said, smiling. \"I\\'m just going to grab my things and we can go')\n",
      "--------------------------------------------------\n",
      "58 ('It was the only section of the library where there wasn\\'t a single book to check out.\\n\\n\"Good luck with that,\" Daniel said, opening up his', ' own book.\\n\\n\"I\\'ll try,\" I said, taking a seat at the table.\\n\\n\"I\\'ll be right back,\" Daniel said, walking out')\n",
      "--------------------------------------------------\n",
      "59 ('\"Happy to help my little friend here, even if she is keeping surprising company,\" said Leo, giving Tessa a wry look. \"Glad you', '\\'re feeling better, Tessa. I\\'m glad you\\'re back with us.\"\\n\\n\"I\\'m glad to be back,\" Tessa said, smiling. \"')\n",
      "--------------------------------------------------\n",
      "60 ('Beth smoothed her wiry half-black, half-gray hair from her makeup-free face. In New Mexico, the natural look was common. Standing', ' in front of the mirror, she looked like a woman who had just come from a long day of work.\\n\\n\"I\\'m going to be late,\" she')\n",
      "--------------------------------------------------\n",
      "61 ('\"I\\'m not done here.\"\\n\\n\"But-\"\\n\\n\"And I\\'m not your f**king meal,\" he added, a touch of heat whipping', ' through his voice.\\n\\n\"I\\'m not your f**king meal,\" she repeated, her voice a little more steady.\\n\\n\"I\\'m not your f')\n",
      "--------------------------------------------------\n",
      "62 ('He had the ridiculous desire to chase after her, but even as the thought skated tantalizingly through his mind, reality intruded.\\n\\n\"You', '\\'re not going to catch her,\" he said, his voice low and rough.\\n\\n\"I know,\" she said, her voice equally low and rough.\\n\\n')\n",
      "--------------------------------------------------\n",
      "63 ('He was about to let out a burst of laughter when the wagon came to a screeching halt. All the humor left him at once. Other than the', ' wagon, there was nothing else in the yard.\\n\\n\"What\\'s going on?\" he asked.\\n\\n\"I don\\'t know,\" said the driver. \"')\n",
      "--------------------------------------------------\n",
      "64 ('\"My serum Creatinine is high, although everything else within my kidney profile is apparently normal, according to the hospital. So is my potassium, but that', \"'s not a surprise. I'm not sure what's going on with my blood pressure, but I'm not sure that's a surprise either. I'm not\")\n",
      "--------------------------------------------------\n",
      "65 ('Cooper groaned, and his body sagged back.\\n\\n\"You weren\\'t supposed to be first,\" Deuce snarled as he lifted the gun', '.\\n\\n\"I\\'m sorry,\" Cooper said, his voice weak. \"I\\'m sorry.\"\\n\\n\"You\\'re not sorry,\" Deuce said. \"You')\n",
      "--------------------------------------------------\n",
      "66 ('Talking about it normally bothered me, but with him, I felt I could say anything.\\n\\n\"Everyone said I shouldn\\'t have survived,\" I explained.', ' \"But I did. I\\'m not sure why, but I did. I\\'m not sure why I\\'m telling you this, but I\\'m not sure why')\n",
      "--------------------------------------------------\n",
      "67 ('“You know we don’t really need a song.”\\n“True,” Jenna said, “but I want one. I think we deserve one after all', ' the shit we’ve been through.”\\n“You’re right,” I said, “but I don’t think we should sing it.”\\n“Why not?”')\n",
      "--------------------------------------------------\n",
      "68 ('He shook his head, took a step back and held his hands up as he tried to smile without losing a cigarette.\\n“Yes you can,” Julia said', '. “You can do anything you want.”\\n“You’re right,” he said. “I can do anything I want.”\\nHe took another step back')\n",
      "--------------------------------------------------\n",
      "69 ('Prince of Alasia begins on the night of the Invasion and describes what happens to twelve-year-old Prince Jaymin after he is forced to flee', ' his home.\\nThe Prince of Alasia is a story of a young boy who is forced to flee his home and his family. Jaymin is a')\n",
      "--------------------------------------------------\n",
      "70 ('Even as he settled back into the cushions of the swing, though, he heard a soft voice: \"Mateo.\"\\n\\nNadia looked so beautiful.', ' Her hair was loose, and she wore a simple white dress that was a little too long for her. She was smiling, and her eyes were bright.\\n\\n')\n",
      "--------------------------------------------------\n",
      "71 ('Lamla touched his shoulder again.\\n‘Come away, Kandrigi. You will blind yourself.’\\nKandrigi remained glued to the tube', '.\\n‘You will be killed.’\\nKandrigi shook his head.\\n‘You will be killed.’\\nKandrigi shook his head')\n",
      "--------------------------------------------------\n",
      "72 ('\"Of the two of them, who has the strongest appeal?\" he asked.\\n\\n\"Leanne,\" I said. \"Not that I don\\'t like Winter', ', but she\\'s a bit of a\\nloner.\"\\n\\n\"I\\'m not sure that\\'s a good thing,\" he said. \"I think you should')\n",
      "--------------------------------------------------\n",
      "73 ('My wife refused to allow me to come to Hong Kong when the plague was at its height and–”\\n“Your wife, Johanne? You are married', '?”\\n“Yes, I am married. I have a wife and a daughter. I am a father.”\\n“Oh, I am sorry. I did')\n",
      "--------------------------------------------------\n",
      "74 ('And I could ignore the feeling of being owned ... it was a loose ball and chain and I was heady with the power, the attention, the money.', ' I was a man on a mission.\\nI was a man on a mission.\\nI was a man on a mission.\\nI was a man on')\n",
      "--------------------------------------------------\n",
      "75 ('There was no cover if someone was guarding the beach.  All remained quiet except for the sound of the breakers and smell of decaying seaweed.', '  The wind was blowing hard and the waves were crashing against the beach.  The sky was dark and the stars were shining brightly.  The moon was full')\n",
      "--------------------------------------------------\n",
      "76 (\"All at once she understood why this whole day she'd felt even more consumed by Daniel than usual, and also even more conflicted about Cam. She'd dreamed\", ' of him, and now she was having a hard time remembering why.\\n\\n\"I\\'m sorry,\" she said, and she meant it. \"I\\'m sorry')\n",
      "--------------------------------------------------\n",
      "77 ('he yelled, throwing the barrel onto the bench top as Frobisher continued to shake her head furiously, her eyes wide with horror.\\nPeterson released', ' her and she fell to the floor, her hands covering her face.\\n\"I\\'m sorry, I\\'m sorry,\" she sobbed. \"I\\'m sorry')\n",
      "--------------------------------------------------\n",
      "78 ('“Aye.”\\n“And what are you looking at?”\\n“Molly. She’s a bee but she’s dead.”\\n“Well, that is', ' a shame.”\\n“Yeah, it is.”\\n“You know, I’ve been thinking about that.”\\n“What?”\\n“Well, I’ve')\n",
      "--------------------------------------------------\n",
      "79 (\"He does not ask for money or even any help, and his uncle does not offer. Brian wasn't expecting him to. He knows this is something he has\", \" to do on his own.\\nBrian's uncle is a good man, but he's not the best at giving advice. He's not the best at giving\")\n",
      "--------------------------------------------------\n",
      "80 ('\"I realize it\\'s probably not a good idea to have this conversation over the phone.\"\\n\\n\"We\\'ll talk later,\" she said, but Chase was afraid', ' she was already on the phone.\\n\\n\"I\\'m sorry, I\\'m sorry,\" he said, \"I\\'m sorry, I\\'m sorry, I\\'m sorry')\n",
      "--------------------------------------------------\n",
      "81 (\"After a few seconds, I see my mother come into my view, falling to her knees beside the person just sitting up. It's my father. I squeeze\", ' my eyes shut, trying to block out the sight of him lying there, blood pooling around him.\\n\\n\"Dad?\" I whisper, my voice cracking.')\n",
      "--------------------------------------------------\n",
      "82 ('she asked him.\\n\\n\"They will not let me continue matching the nibbler pups with their parents. They say it is too dangerous. That all of', ' the pups are too young to be matched. They say that I am too old to be matched. They say that I am too old to be matched.')\n",
      "--------------------------------------------------\n",
      "83 (\"Her brother would probably rip my eyeballs out and shove them down my throat if he knew. Something told me he wouldn't find out. That she wouldn\", '\\'t tell him.\\n\\n\"I\\'m not going to tell him,\" I said. \"I\\'m not going to tell anyone.\"\\n\\n\"You\\'re not going')\n",
      "--------------------------------------------------\n",
      "84 (\"It didn't stop me from wishing I could be as impervious to it as my companions, though. Vampires and ghouls might not like the\", ' idea of being turned into a vampire, but they were all too willing to accept the fact that they were now vampires.\\n\\n\"I\\'m not sure I')\n",
      "--------------------------------------------------\n",
      "85 (\"Dad's trashed your room, but they haven't found any drugs yet. And they didn't find any in your locker, and I'm guessing they\", \" didn't find any in your room either. I'm guessing they didn't find any in your car either. I'm guessing they didn't find any in your\")\n",
      "--------------------------------------------------\n",
      "86 ('Ella moved in front of him and, after a quick glance up the road, sprinted through the gate and onto the lawn, avoiding the gravel pathway and', \" the gravel driveway. She ran as fast as she could, her heart pounding in her chest. She didn't know where she was going, but she knew she\")\n",
      "--------------------------------------------------\n",
      "87 ('“Ah, it’s called reading.  Ever try it?” Amber snickered.\\nOn Thursday afternoon, Amber got a call from Peggy.  ', 'She was in the middle of a\\nconversation with her husband when she heard the phone ring.  She picked it up\\nand said, “Hello')\n",
      "--------------------------------------------------\n",
      "88 (\"Gran said a short blessing and everyone dug in. I couldn't help but notice the apprising looks she was giving Cole and I. Was Gran trying to set\", ' us up?\\n\\n\"So, what do you guys think of the food?\" I asked.\\n\\n\"It\\'s good,\" Cole said.\\n\\n\"It\\'s')\n",
      "--------------------------------------------------\n",
      "89 (\"My focus wasn't as ironclad as I'd always believed.\\n\\nLet's just say I'm going to need another Guinness the instant I step\", \" into the\\noffice.\\n\\nI'm not sure what I'm going to do about the fact that I'm going to have to\\nwork with my ex-\")\n",
      "--------------------------------------------------\n",
      "90 ('She held it away from him.\\n“Don’t be an idiot,” she said.\\nRackenfauz cocked the rifle with authority. \\n', '“You’re not going to shoot me,” he said.\\n“You’re not going to shoot me,” she said.\\n“You’re not going to')\n",
      "--------------------------------------------------\n",
      "91 ('It’s nothing more than a faceless, formless brown blob to me but I take his word of the resemblance to our genetic makeup. \\nThe vial', ' is placed in the center of the table and I watch as the liquid begins to bubble and swirl. \\n“What is that?” I ask. \\n“')\n",
      "--------------------------------------------------\n",
      "92 ('She thanked Matt, hung up the phone and decided to cook.  That would sooth her nerves.  Derek was fine.  He could take care', ' of himself.  She was just being paranoid.  She was just being paranoid.  She was just being paranoid.  She was just being paranoid.  ')\n",
      "--------------------------------------------------\n",
      "93 ('* * *\\n\\nKELLY WAS SEATED on one of the beds, her back to Diane. She closed her eyes against the pain inside her and slowly', ' began to relax.\\n\\n\"I\\'m sorry,\" she said. \"I\\'m sorry I didn\\'t tell you.\"\\n\\n\"I know,\" Diane said. \"')\n",
      "--------------------------------------------------\n",
      "94 ('“Well, I figured that we would eventually be living there full time so, you need to feel comfortable there. You’ve handled getting up close and personal with', ' the police and the FBI, so you should be able to handle this.”\\n\\n“You’re right, I’m sorry. I just don’t want to be')\n",
      "--------------------------------------------------\n",
      "95 ('“Carlos Rafael Wilson.”\\nThe man smiled at him. Carlos didn’t have a clue what was going on. He looked to his manager.\\n“', 'What’s going on?”\\n“You’re going to be a star, Carlos. You’re going to be a star.”\\nCarlos looked at the man')\n",
      "--------------------------------------------------\n",
      "96 ('\"You can tell Mum\\'s not going anywhere-it took her five minutes just to remember where he was!\"\\n\\nAlice nodded, well used to their eccentricities', '. \"I\\'m sure she\\'ll be fine. She\\'s been through a lot, and she\\'s not going to let anything stop her from seeing her son.\"')\n",
      "--------------------------------------------------\n",
      "97 ('If you\\'re too chicken to sleep on my couch I\\'m sure you can sleep on Ethan\\'s.\"\\n\\n\"I\\'m way too old to sleep on anyone\\'s', ' couch.\"\\n\\n\"I\\'m not asking you to sleep on my couch, I\\'m asking you to sleep in my bed.\"\\n\\n\"I\\'m not sleeping in')\n",
      "--------------------------------------------------\n",
      "98 ('\"You deserve to die.\"\\n\\nSydney gasped at the words. \"Slade, you don\\'t even know what you\\'re saying!\" She remembered', ' the last time she had seen him. He had been in a coma, and he had been in a bad way. He had been in a coma for a')\n",
      "--------------------------------------------------\n",
      "99 (\"He immediately blocked Sean's attempt to invade his mind, but it took all of his concentration. For a mortal, Sean's psychic power was incredibly strong.\\n\\n\", '\"I\\'m not going to hurt you,\" Sean said. \"I\\'m here to help you.\"\\n\\n\"I don\\'t need your help,\" the man said')\n",
      "--------------------------------------------------\n",
      "100 ('And then Admiral Atgard saw what Ryan had seen, what he himself had seen before: the tiny flicker of Le Jaunte’s eyes, a flicker', ' of the soul that had been lost to the darkness.\\n\\n“You’re not alone,” he said. “You’re not alone.”\\n\\nRyan’s eyes widened')\n",
      "--------------------------------------------------\n",
      "101 (\"Now she was standing tall and haughty, supported by a scaffolding of pride.\\n\\n'Oh, yes, sir, 'cos of when the other\", ' day I was in the kitchen and I was looking at the clock and I saw that it was half past five and I said to myself, \"Oh, my')\n",
      "--------------------------------------------------\n",
      "102 ('Monique looked at the water, and then at Atlas, “I said ankle deep water.”\\n“The fish need water to swim around in; this is just', ' a shallow pond.”\\n“Oh.”\\n“You can go back to the house if you want.”\\n“Oh, no, I’m fine.”\\n')\n",
      "--------------------------------------------------\n",
      "103 ('Bath pools are huge, big enough for ninety-nine peeps, and they’re always open. You go whenever you want after your work is all done', ', and you can take a bath in the tubs, or you can just sit in the hot tubs and soak in the hot water. You can even')\n",
      "--------------------------------------------------\n",
      "104 ('Gabriel asked into the spell of silence which followed.\\n“Who else, what?” asked Heather.\\n“Who else wrote in English as their second language', '?” asked Gabriel.\\n“You mean, like, the language of the English language?” asked Heather.\\n“Yes, the language of the English language,”')\n",
      "--------------------------------------------------\n",
      "105 ('I wanted to make sure you were still comfortable with the arrangements. I can always do something different.\"\\n\\n\"You\\'re too good to me, Max. But', ' I\\'m not sure I\\'m comfortable with the arrangements. I\\'m not sure I\\'m comfortable with the idea of you being here.\"\\n\\n\"I\\'m not going')\n",
      "--------------------------------------------------\n",
      "106 ('For a certain period of time, I was still reserving room for the hope that Vivienne would walk in, unharmed and perfectly alright. There were times', ' when I would even think that she had been kidnapped and that I would be able to save her. But then, I would remember that she was a grown woman')\n",
      "--------------------------------------------------\n",
      "107 ('He was small, even for a dwarf, and his poor taste in sorcerous robes contrasted awkwardly with D’jebee’s elegant attire;', ' the dwarf’s robes were a deep, rich red, while the sorcerer’s robes were a deep, rich blue. The sorcerer’s robes were')\n",
      "--------------------------------------------------\n",
      "108 ('I found a book about Napoleon’s life in our local library. One of the chapters described how he had visited a garden while traveling through Italy. He went into', ' a garden and saw a beautiful rosebush. He asked the gardener what the rosebush was called. The gardener told him that it was a')\n",
      "--------------------------------------------------\n",
      "109 ('Members of the audience could be forgiven for thinking that a lone man sitting cross legged and smoking on stage with others in front of him singing curious songs looked a', ' little odd. But the man was in fact a member of the audience, and he was there to see a performance of a new musical, The Last Ship,')\n",
      "--------------------------------------------------\n",
      "110 ('\"She\\'s a meddlesome, interfering brat,\" Bowen said in amusement. \"But \\'tis the truth we love her dearly and life would', ' be a dull thing without her.\"\\n\\n\"I\\'m glad to hear it,\" I said. \"I\\'m glad to hear it.\"\\n\\n\"I\\'m glad')\n",
      "--------------------------------------------------\n",
      "111 (\"I sat at the back, let down a kneeler, and slid down on it.\\n\\nI was hoping to bring order to chaos.\\n\\nI'd promised\", \" to be there for the wedding, but I'd been too busy to make it.\\n\\nI'd been too busy to make it to the wedding.\\n\\nI\")\n",
      "--------------------------------------------------\n",
      "112 ('In addition to other Karou-related favors Esther had performed for Brimstone over the years-enrolling her in schools, faking identity documents for her', ', and even helping her get a job-she had also been a constant source of support for Karou. Esther had been the one who had helped Karou')\n",
      "--------------------------------------------------\n",
      "113 ('We hustled to the left, awkwardly stumbling like a three-legged racer, Gil swinging the flashlight towards the pair of snakes that were', ' slithering towards us.\\n\\n\"I think we\\'re safe,\" I said, \"but we should probably get out of here.\"\\n\\n\"I\\'m not')\n",
      "--------------------------------------------------\n",
      "114 ('“Quick, everyone, look for the poster for Cats! I wanna see Cats!” said Khalil.\\n“I don’t think that’s playing anymore', ',” said the teacher.\\n“What? Why not?” asked Khalil.\\n“Because it’s not a musical anymore,” said the teacher.\\n“')\n",
      "--------------------------------------------------\n",
      "115 ('They had not watched him pass through the check-in desks or passport control, so had only assumed that he had caught the flight to Moscow. But there', ' was no way of knowing that.\\n\\nThe man in the suit had been a little too eager to get the information he wanted. He had been too eager to')\n",
      "--------------------------------------------------\n",
      "116 ('Amber got out of the car and met Olivia half way down the walk.  The girls hugged and climbed back into the car.\\nAmber drove to', ' the park and they walked around for a while.  They saw a playground and a sandbox.  They played on the swings and the slide.  They had')\n",
      "--------------------------------------------------\n",
      "117 ('“Detective Reiss was the detective in charge of the case,” said Greg, “He has been a detective for over twenty years.  Why would he', ' lie about this?”\\n\\n“Because he’s a coward,” said the man, “He’s afraid of the truth.  He’s afraid of the truth because')\n",
      "--------------------------------------------------\n",
      "118 ('I went down the stairwell, but the smoke was too thick, so I went back up and into the far office where I must have finally passed out.', '\\n\\nI woke up in a hospital bed, and I was in a lot of pain. I was in a hospital gown, and I was in a hospital bed')\n",
      "--------------------------------------------------\n",
      "119 ('It had many unusual qualities which may or may not become apparent soon, but currently there was only one that set it apart from any other brassbound chest. It', ' was the brasswork. The brasswork was beautiful. It was the most beautiful brasswork that he had ever seen. It was the most beautiful brasswork that')\n",
      "--------------------------------------------------\n",
      "120 ('Their food came out then.  Hot, covered dishes were placed before them, Robert first and then Sarah.  The waiter removed the covers from the dishes,', ' and Sarah picked up her fork.  She looked at the food, and then at Robert.  She smiled, and then began to eat.  Robert looked')\n",
      "--------------------------------------------------\n",
      "121 ('Mum is staring at him in shock, and Dad is grinning. I look back at Bing.\\n\\n\"What?\" my brother snaps.\\n\\n\"Nothing', ',\" I say. \"Just wondering what you were doing in the woods.\"\\n\\n\"I was looking for a tree to climb,\" he says. \"I was')\n",
      "--------------------------------------------------\n",
      "122 (\"Within five minutes, I'd lost the vampire.\\n\\nI was alone. In the dark. Underground.\\n\\nI shivered, then reminded myself why I was\", ' here.\\n\\nI was here to find the vampire.\\n\\nI was here to find the vampire.\\n\\nI was here to find the vampire.\\n\\nI was')\n",
      "--------------------------------------------------\n",
      "123 (\"“For the infected. And the other things. And the black clouds. That's what got us. They hunted us down. It’s the only way\", ' they could get us.”\\n\\n“You’re not making any sense,” I said.\\n\\n“You’re not making any sense either,” he said. “But')\n",
      "--------------------------------------------------\n",
      "124 ('They knew that a bunch of bikers showing up in class like that was not a good thing.  I hung just outside the door to listen.\\n“', 'What’s going on?” I asked.\\n“We’re going to be late for class,” said one of the guys.\\n“We’re going to be')\n",
      "--------------------------------------------------\n",
      "125 ('Looking ahead, he squinted through the raindrops at the now indistinct outline of the deck of the freighter.  Her bow and stern were', \" visible, but the rest of the ship was hidden by the rain.  He could see the lights of the ship's bridge, but he couldn't make out\")\n",
      "--------------------------------------------------\n",
      "126 ('Isn’t it a most excellent law, my dear Sycko? Just imagine! How could we live together if we were allowed to tell lies? But again the', ' law is a good thing. It is a good thing that we should be able to tell lies. It is a good thing that we should be able to tell')\n",
      "--------------------------------------------------\n",
      "127 ('I told him we thought highly of his plays and still put them on the boards. In fact, I said we thought they were the greatest pieces of literature in', ' the world. He said, \"I\\'m not sure I agree with you.\" I said, \"Why not?\" He said, \"Because I don\\'t think')\n",
      "--------------------------------------------------\n",
      "128 ('My heart was still racing. \"And what\\'s this?\" I pointed toward the gold bracelet. It had three big rubies on it. It was really', ' pretty.\\n\\n\"It\\'s a gift from my mom. She said it was the perfect gift for you.\"\\n\\n\"Oh, it\\'s beautiful.\" I looked')\n",
      "--------------------------------------------------\n",
      "129 ('The rise of the Orchid Districts and the Immari master plan. David took it in. It was truly a nightmare scenario.\\n\\n\"They bring', ' in the Orchid Districts and the Immari master plan. They bring in the Orchid Districts and the Immari master plan. They bring')\n",
      "--------------------------------------------------\n",
      "130 ('Gotta run.\"\\n\\nDECK HAS A CLIENT in his office when I return. She\\'s a middle-aged woman, heavyset, nicely dressed.', ' She\\'s got a lot of makeup on, and she\\'s wearing a lot of jewelry. She\\'s got a lot of money.\\n\\n\"I\\'m looking for')\n",
      "--------------------------------------------------\n",
      "131 ('You and JT were-\" He broke off when someone shouted his name from topside, the word echoing along the stone tunnel that led down to the sacred', ' chamber.\\n\\n\"I\\'ll be right back,\" he said, and ran down the stairs.\\n\\n\"What\\'s going on?\" he heard someone ask.\\n\\n')\n",
      "--------------------------------------------------\n",
      "132 ('\"I\\'m so excited to take both you girls with me,\" he said, glancing in the rear view mirror at Helen who sat in the back seat in', ' her seat belt. \"I\\'m sure you\\'ll have a great time.\"\\n\\n\"I\\'m sure we will,\" Helen said, smiling.\\n\\n\"I\\'m')\n",
      "--------------------------------------------------\n",
      "133 ('Luther pulled out his own medical kit and wiped the area around her hip with more antiseptic before applying a topical antibiotic. \"We realized it isn\\'t', ' a fracture, but it\\'s a bad one. We need to get you to a hospital.\"\\n\\n\"I\\'m not going to a hospital,\" she said,')\n",
      "--------------------------------------------------\n",
      "134 ('It wasn’t beer—she wasn’t sure what it was. It had a strange, spicy flavor she couldn’t quite place. Was it mead? Some', ' kind of ale? She didn’t know.\\n\\nShe took a sip, and it was delicious. It was sweet, but not too sweet. It was a')\n",
      "--------------------------------------------------\n",
      "135 ('Now we will descend down the ancient staircase into the interior, where we will find King Pacal’s tomb. What we will see there are original artifacts. Please', ', follow me.”\\n\\nThe group followed the guide down the stairs, and into the tomb. The guide led them to the back of the tomb, where there')\n",
      "--------------------------------------------------\n",
      "136 ('“You have proven yourself worthy,” she tells me. She steps forward. I step back. Her smile trembles.\\nI say, “You turned away', ' from me.”\\nShe says, “I did.”\\nI say, “You are not my mother.”\\nShe says, “I am.”\\nI')\n",
      "--------------------------------------------------\n",
      "137 ('He was not at ease, either, but he was always polite. We were both very polite.\\n\\nIt was almost scripted at this point.\\n\\n\"', 'I\\'m sorry, I\\'m sorry, I\\'m sorry,\" I said. \"I\\'m sorry, I\\'m sorry, I\\'m sorry.\"\\n\\n\"I\\'m')\n",
      "--------------------------------------------------\n",
      "138 ('He had the prettiest girl in town on his arm, asking him to her house. No guy had ever been luckier.\\n\\nHe was so wrapped', ' up in his thoughts that he didn\\'t notice the girl walking up to him.\\n\\n\"Hey, you\\'re the guy from the other day, right?\"\\n\\n')\n",
      "--------------------------------------------------\n",
      "139 ('I read up about Najriadian customs and how the henna party is all about the women dancing and celebrating. There were several mentions of improvisational belly', ' dancing, and I was curious to see how it was done.\\nI was surprised to find that the women were not wearing any clothes at all. They were')\n",
      "--------------------------------------------------\n",
      "140 ('So the goodbyes were said and Todd was puzzled even more, he thought to himself (I’ve been surfing the web since the internet was born, why can', '’t I find anything about this guy?)\\n\\nTodd was a little confused, he thought to himself (I’ve been surfing the web since the internet was born')\n",
      "--------------------------------------------------\n",
      "141 ('\"I hope it has opened your eyes to the spirit world,\" Hannah replied, \"Not everyone can see the power of the spirits as we do. They are', ' not as powerful as we are, but they are still powerful. They can help us in our quest to find the truth.\"\\n\"I\\'m glad you told')\n",
      "--------------------------------------------------\n",
      "142 ('Whatever was here before must have kept reseeding and growing after the Plague.\"\\n\"I\\'ll bet that\\'s how most of the animals that survived made it', ' through,\" said\\nthe man. \"They were probably the ones that were left behind.\"\\n\"I don\\'t think so,\" said the woman. \"I')\n",
      "--------------------------------------------------\n",
      "143 ('She blew across the steaming brew before speaking, “Thanks for doing this with me.”\\n“Hey, Claire, it’s no problem for me.  ', 'I’m glad you’re here.”\\n“Me too.”\\n“So, what’s the plan?”\\n“Well, I’m going to go to the')\n",
      "--------------------------------------------------\n",
      "144 ('But to use it to political ends is an outrage. How do you answer to these charges leveled against you, Chaiko of Standing-Rock?” An expect', 'ant silence followed. “I am not a politician. I am a lawyer. I am a human being. I am a human being who has been accused of')\n",
      "--------------------------------------------------\n",
      "145 ('“No matter the scoff.”\\n“No matter the scoff.”\\n“No matter the torment, no matter the pain.”\\n“No matter the torment, no matter', ' the pain.”\\n“You’re not going to get away with this.”\\n“No matter the torment, no matter the pain.”\\n“You’re not going')\n",
      "--------------------------------------------------\n",
      "146 ('\"They failed in trying to put his soul into Logan\\'s body, and they didn\\'t get their hands on the Chloris ambrosia flower to heal', \" him. They tried to use the flower to heal him, but it didn't work. They tried to use the flower to heal him, but it didn't\")\n",
      "--------------------------------------------------\n",
      "147 ('\"Aren\\'t you eager to read it, mother?\" Francis asked as he waved his hand in a nonchalant gesture.\\n\\nHer heart quickened at', ' the sight of her son. She had been so worried about him. She had been so worried about him. She had been so worried about him.\\n\\n\"')\n",
      "--------------------------------------------------\n",
      "148 ('He passed the computer without really seeing it and then stopped in his tracks. Robin found Jared through the internet; maybe he could find out something by searching online.', '\\n\\n\"Jared?\" Robin called out.\\n\\n\"What?\" Jared asked, looking up from his computer.\\n\\n\"I was wondering if you could help me')\n",
      "--------------------------------------------------\n",
      "149 ('Matt leaned closer, staring deep into Selena’s eyes as he asked the question. \\nSelena felt the strange tingle in her stomach again as Matt stared', ' at her. She felt her heart beat faster and her breath catch in her throat. She felt her body begin to tremble. She felt her heart race.')\n",
      "--------------------------------------------------\n",
      "150 ('I held my finger to my lips and stood on my toes to peak through the tiny window set into the metal door. Gregory was pacing and rubbing his hands against', ' his face. I could see his shoulders heaving and his eyes were red and puffy.\\n\\n\"What\\'s wrong?\" I whispered.\\n\\n\"I\\'m')\n",
      "--------------------------------------------------\n",
      "151 ('“Miss Bingley, why don’t you care for the marquis?”\\n“Again, wrong question. And you’re the famous inspector?” she said,', ' her eyes narrowing.\\n“Yes, I am. And I’m here to ask you to help me find a missing person.”\\n“Miss Bingley,')\n",
      "--------------------------------------------------\n",
      "152 ('“When he did this, he brought a curse down upon our family and home,” he told me confidentially.\\nI was confused. “Curse…', '?”\\n“Yes, a curse. He cursed us all. He cursed our family, our home, our land, our people, our children, our grandchildren')\n",
      "--------------------------------------------------\n",
      "153 (\"It will inflict pain and suffering the likes of which you couldn't comprehend. Better that we had all ceased to exist at the hands of the Blade of Sha\", 'o Kahn.\"\\n\\n\"I don\\'t think that\\'s what you\\'re thinking,\" said the Doctor. \"I think you\\'re thinking of the Blade of')\n",
      "--------------------------------------------------\n",
      "154 ('\"I\\'m not doing it, Ares.\"\\n\\n\"Then we will both die!\" Ares said angrily.\\n\\n\"Then we will!\" They sat there', ' for a moment, staring at each other.\\n\\n\"Fine, I\\'ll do it.\"\\n\\n\"Good.\" Ares said, and he grabbed the sword.')\n",
      "--------------------------------------------------\n",
      "155 ('Charles stepped forward, and once again confronting Varney, with an earnest gaze, he said—\\n\\n“Do you know, sir, that Miss Bannerworth', ' is a very good girl?”\\n\\n“Yes, I know it,” said Varney, with a sneer. “She is a very good girl, and')\n",
      "--------------------------------------------------\n",
      "156 ('And as it briefly moved more into the light, it was revealed to be nervously clutching a rifle.\\nIt was the police officer. Squatting', ' down, he looked at the gun.\\n\"I\\'m sorry, sir. I didn\\'t mean to scare you.\"\\n\"It\\'s okay,\" the man')\n",
      "--------------------------------------------------\n",
      "157 ('Mrs McGregor hmmphed to herself and looked at Sacha, a boy she clearly thought needed pyjamas since he was sharing a bed.  Sac', 'ha was a boy who had been in the care of the state for a long time.  He was a boy who had been in the care of the state')\n",
      "--------------------------------------------------\n",
      "158 ('\"Sure, but I don\\'t know what al this is about.\" Her breath fogged the air. \"I realize now you could have taken my purse away', ', but I don\\'t think you would have done that.\"\\n\\n\"I could have, but I didn\\'t.\"\\n\\n\"Why?\"\\n\\n\"Because I didn')\n",
      "--------------------------------------------------\n",
      "159 ('“I don’t believe you guys,” she shouted hopelessly and stormed off to a hut to change. Only Hendricks who had his hand over his eyes didn', '’t see her.\\n\\n“What’s wrong with her?” he asked.\\n\\n“She’s just a little upset,” said the man. “She’s been')\n",
      "--------------------------------------------------\n",
      "160 ('Drake nodded as he sat forward and rested his elbows on his knees. \"I guess she gets lonely sometimes, not having a sibling to play with?\"', '\\n\\n\"I guess so,\" Drake said, \"but she\\'s not lonely. She\\'s got me.\"\\n\\n\"Yeah, but you\\'re not her brother,\"')\n",
      "--------------------------------------------------\n",
      "161 ('Women who used wit to keep men at a distance usually had a sharp edge to them, but somehow with her, it came across as almost ... well, charming', '.\\n\\n\"I\\'m not sure I understand,\" he said.\\n\\n\"I\\'m not sure I do either,\" she said. \"But I\\'m not going')\n",
      "--------------------------------------------------\n",
      "162 ('“It’s your choice, my boy. Purged now or the sinner’s fire for eternity. Which shall it be?”\\nErnie didn’t answer', '. He just stared at the man, his eyes wide and his mouth open.\\n“You have a choice, boy. You can either be a good boy')\n",
      "--------------------------------------------------\n",
      "163 ('Suddenly, he turned his horse again and rode back up to Raleigh, who was just mounting up, and called out.\\n“Raleigh, we are losing', ' the battle. We must retreat.”\\nRaleigh looked at him, and then at the battle.\\n“We can’t retreat. We have to fight to')\n",
      "--------------------------------------------------\n",
      "164 ('Jordan and Joel crossed the gangplank, Jordan with a lot less apprehension than the day before, though still not quite with the same confidence as Joel', '.\\n\\n\"I\\'m sorry,\" he said, \"I didn\\'t mean to be so rude.\"\\n\\n\"It\\'s okay,\" Joel said. \"I\\'m')\n",
      "--------------------------------------------------\n",
      "165 ('Still unable to look away from Diana\\'s eyes, Cassie whispered, \"Faye.\"\\n\\n\"What? \"cried Laurel.\\n\\n\"Faye', ',\" Cassie repeated. \"She\\'s the one who killed my mother.\"\\n\\n\"What?\"\\n\\n\"She\\'s the one who killed my mother,\" Cassie')\n",
      "--------------------------------------------------\n",
      "166 ('Was Natasha annoyed with Axel? Amused? Merely being factual? It was impossible to guess. Tone of voice, inflection, the subtle', 'ties of facial expression, all of it was a mystery to him.\\n\\n\"I\\'m not sure,\" he said. \"I\\'m not sure I know what')\n",
      "--------------------------------------------------\n",
      "167 ('As I took a seat beside Wolfe on the bed I realised how much older Kir looked than Wolfe, despite them being of the same age. It was', ' a strange feeling, to be in the presence of someone who was so much older than you.\\n\\n\"So, what brings you here?\" Wolfe asked,')\n",
      "--------------------------------------------------\n",
      "168 ('Edtroka’s grasp, while not as tight or restricting as Tzanlomne’s, was just as unbreakable. He kept hold of her', ' wrists, and she kept hold of his, and they stood there, locked in a battle of wills.\\n\\n“You’re not going to let me')\n",
      "--------------------------------------------------\n",
      "169 (\"I pulled up the hood of my black raincoat and tucked my messenger bag beneath it.\\n\\nDespite the gathering storm, the grounds of Evernight still weren't\", ' as deserted as they had been the night before. The students were still milling about, but they were all dressed in their school uniforms. I was surprised to')\n",
      "--------------------------------------------------\n",
      "170 (\"I mean, one day she is telling me she loves you, and then the next thing I know, you two are broken up and she's dating Jason.\", ' I don\\'t know what to do.\"\\n\\n\"I don\\'t know either, but I\\'m going to find out.\"\\n\\n\"You\\'re going to what?\"')\n",
      "--------------------------------------------------\n",
      "171 ('“They’re not going to need the explosives.”\\n“What’s the latest news Moro?” Baldazzi put down the gun he was polishing. “', 'Did you get the information you needed?”\\n“Yes, I did. I’ve got a good lead on the location of the base. I’ll be able')\n",
      "--------------------------------------------------\n",
      "172 ('“I’m so awful with words,” he stumbled, “always putting my foot in my mouth!”\\nEloisa smiled. “Don’t worry about that.', ' I’m not offended. I’m just glad you’re here.”\\n“Me too,” he said, “I’m glad you’re here too.”\\nEl')\n",
      "--------------------------------------------------\n",
      "173 (\"“No,” they say. “Not while you owe on the house in Duluth.”\\nThe house in Duluth hasn’t sold, and we're several months\", ' behind on the mortgage.\\n“You owe on the house in Duluth,” they say. “Not while you owe on the house in Duluth.”\\n')\n",
      "--------------------------------------------------\n",
      "174 ('Jay thought for a minute\\nand then added, “What about that birth stuff?”\\n“Birth stuff?”\\n“Yeah, you know, where you go', ' to the hospital and stuff?”\\n“Oh, yeah, I forgot about that.”\\n“Yeah, I guess I should have thought of that.”\\n“')\n",
      "--------------------------------------------------\n",
      "175 (\"Trantor, the political center of the Galaxy, had died decades, perhaps centuries before, and was only now obviously falling to rot. While Hari's\", \" people had been able to hold the planet for a time, the planet's population had been reduced to a few thousand, and the planet was now a wasteland\")\n",
      "--------------------------------------------------\n",
      "176 ('‘Things are vanishing.’ And I saw what she meant and, yes, I was worried then as well. I’m worried now.”\\nJones looked over', ' at the other two. “I’m not sure what to do. I don’t know what to do. I don’t know what to do.”\\n“')\n",
      "--------------------------------------------------\n",
      "177 ('“To surprises,” I echo and take a tiny sip. “Blah, I don’t think I’m going to get used to this stuff.”\\n“', 'You’ll get used to it,” he says. “You’ll get used to it.”\\nI take another sip. “I’m not sure I want to')\n",
      "--------------------------------------------------\n",
      "178 ('The twins decided to go out into the neighborhood to try their new invention outside of the lab. \\nA black unmarked car wound its way around the sleepy suburb', '. The driver was a tall, \\nhandsome man with a dark complexion and a long, black ponytail. He was wearing a black \\nsuit and')\n",
      "--------------------------------------------------\n",
      "179 (\"We'd just wake up and have TV marathons until we passed out.\\n\\nNeither of us was getting much sleep, but we were closer than ever. It\", ' was like we were in a bubble, and we were the only ones who knew about it.\\n\\nI was so happy.\\n\\nI was so happy.\\n\\n')\n",
      "--------------------------------------------------\n",
      "180 ('During the night banquet, Sagard inquired of Buliwyf his mission and the reasons for his travels, and Buliwyf reported of the', ' great perils he had encountered and the great reward he had received. Sagard then asked Buliwyf to tell him of the great deeds of the great')\n",
      "--------------------------------------------------\n",
      "181 ('\"To the beach with the crystals,\" said Luxa softly.\\n\\nHamnet looked at her in surprise. \"You remember that? You could not have been', ' more than a few months old when we left.\"\\n\\n\"I remember everything,\" said Luxa. \"I remember the beach, and the crystal, and the')\n",
      "--------------------------------------------------\n",
      "182 (\"Mü' mü mue 'trilfamees îl'f rfœ Ing-Gland?” Someone was grasping my jacket, jerking me\", ' around. I was in a dark room, and I was being dragged by the collar. I was in a dark room, and I was being dragged by the')\n",
      "--------------------------------------------------\n",
      "183 ('“Tell me something I don’t know.” A hand dropped on a curvy hip. “Look, if you’re trying to flatter me to get me', ' to do something, it’s not going to work. I’m not going to do anything for you.”\\n\\n“You’re not going to do anything for me')\n",
      "--------------------------------------------------\n",
      "184 (\"He is far too far away to hear me.\\n“Captain Yang, I'm the Savior,” I say again, as quietly as I can.\\n\", \"“What?”\\n“Captain Yang, I'm the Savior.”\\n“What?”\\n“Captain Yang, I'm the Savior.”\\n“What\")\n",
      "--------------------------------------------------\n",
      "185 (\"'I sense thy discontent, Anakha,' Xanetia said later when she, Sparhawk and Danae had returned to the fortified\", \" camp. 'I am sorry, my friend. I know that you are not happy with me.'\\n\\n'I am not unhappy, Xanetia,'\")\n",
      "--------------------------------------------------\n",
      "186 ('Why don\\'t you let me give you a ride?\"\\n\\n\"I\\'m good, but thank you.\" Cadence turned on the car\\'s interior light and pulled', ' out of the parking lot.\\n\\n\"You\\'re not going to tell me where you\\'re going?\"\\n\\n\"Nope.\"\\n\\n\"Why not?\"\\n\\n\"')\n",
      "--------------------------------------------------\n",
      "187 ('Shes traveling with Casimir and recording his journey, Angus added.\\n\\nEmma punched some buttons. I think shes having an affair with him.', '\\n\\nEmma looked at me.\\n\\nI said, I think shes having an affair with him.\\n\\nEmma looked at me.\\n\\nEmma said')\n",
      "--------------------------------------------------\n",
      "188 ('Pouring herself a cup of tea, she rang for Parker, who arrived within minutes, carrying her food with him on a tray \"Good morning, Miss Emily', '. I trust you slept well?\"\\n\\n\"Yes, thank you, Parker. I\\'m sorry I didn\\'t get to sleep as late as I would have liked')\n",
      "--------------------------------------------------\n",
      "189 ('“This is a war, boy, and in times like these, there comes a point where a person has to make a choice.” He swiveled,', ' his eyes meeting mine. “I’m not going to tell you what to do, but I will tell you that you have a choice. You can either go')\n",
      "--------------------------------------------------\n",
      "190 (\"Remember that certain child celebrity who had a penchant for coc**ne and Botox injections? You don't see her at the club scenes anymore, and she\", \"'s not in the movies. She's not even in the news. She's not even on the internet. She's not even on the phone. She's\")\n",
      "--------------------------------------------------\n",
      "191 ('We’ll have to stay out of it,” said Tiffany.\\n“I hope the police get the toads back,” said Yadira, placing her pail on', ' the ground.\\n“We’ll have to wait and see,” said Tiffany.\\n“We should get back to the house,” said Yadira.\\n“')\n",
      "--------------------------------------------------\n",
      "192 ('On the floor, I noticed smal bits of broken glass and two dark stains. Lara and Roderick stood in the middle of the lobby, shouting', ' at each other.\\n\\n\"You\\'re a fucking idiot!\" Lara screamed. \"You\\'re a fucking idiot! You\\'re a fucking idiot!\"\\n\\n\"I')\n",
      "--------------------------------------------------\n",
      "193 ('I realize he knows about the LD following him. I decide to secure the deal with the LD. I blast the loudest whistle I can muster, and', ' the LD stops. I walk up to him and say, \"I\\'m sorry, but I\\'m not going to let you take my friend.\" The LD looks')\n",
      "--------------------------------------------------\n",
      "194 ('“What do you want to know?” Nadia’s voice was shaky. Her eyes were filling up with tears. She should have listened to Anabella', '. She should have listened to her. She should have listened to her.\\n\\n“What do you know about the man who was killed?”\\n\\nNadia’s')\n",
      "--------------------------------------------------\n",
      "195 ('Dee glanced at the others, then patted Jenny\\'s shoulder. \"Okay, Sunshine. You go back to sleep, and later we\\'ll talk about it', '.\"\\n\\nJenny nodded, and Dee led her to the bed.\\n\\n\"I\\'ll be right back,\" Dee said, and she left the room.\\n\\n')\n",
      "--------------------------------------------------\n",
      "196 ('There had always been a certain amount of tension between Basha and Jawen, a back-and-forth game of love and lust ever since they were little', ' girls. Jawen had always been the more adventurous of the two, and Basha had always been the more cautious. But now, with the war raging,')\n",
      "--------------------------------------------------\n",
      "197 ('Declan slowly walked over, still breathing heavily, and flipped back the intruder’s hood to reveal the culprit. “Jules, what’s going on?”', '\\n\\nJules looked up at him, her eyes wide and her face pale. “I’m sorry, I didn’t mean to scare you.”\\n\\n“What')\n",
      "--------------------------------------------------\n",
      "198 ('The students moved slowly toward the front, taking seats close to the stage. Monson, Casey, and Artorius made their way down the third aisle from', ' the stage.\\n\\n\"I\\'m glad you\\'re here,\" Casey said. \"I\\'m not sure I could have done this without you.\"\\n\\n\"I\\'m')\n",
      "--------------------------------------------------\n",
      "199 ('\"Lucien, don\\'t...\"\\n\\n\"Yes, Julienne. Look at me.\"\\n\\nReluctantly she lifted her lids and met his gaze', '.\\n\\n\"I\\'m not going to hurt you. I\\'m not going to hurt anyone. I\\'m not going to hurt you, Julienne. I')\n",
      "--------------------------------------------------\n",
      "200 (\"Fellows didn't bother knocking; he simply had his two burly constables kick the door open. Jeffrey, stirring coals in a rusting kitchen\", ' stove, looked up. \"What\\'s the matter?\" he asked.\\n\\n\"We\\'ve got a problem,\" said the constable.\\n\\n\"What kind of')\n",
      "--------------------------------------------------\n",
      "201 ('“Don’t anybody move,” he said, loud and clear, looking at each of the workers. One of the men turned to run and a stream of yellow', '-orange light shot out of the barrel of the gun. The man fell to the ground, screaming. The other workers froze, staring at the gun.\\n\\n')\n",
      "--------------------------------------------------\n",
      "202 (\"'Look!' And Leonardo pointed to the tabletop. The dagger blade, fully restored, had been fitted into the strange mechanism, which in turn was fixed to\", \" the table.\\n\\n'What is it?' asked Leonardo.\\n\\n'It's a device for making a sword,' said the old man. 'It's a\")\n",
      "--------------------------------------------------\n",
      "203 ('“You’re\\xa0the one that came up with the Hiders and mask-jumping. Remember that next time you worry about someone recognizing a mask, okay', '?”\\n\\n“Yeah, yeah, I know. I’m sorry.”\\n\\n“You’re not sorry. You’re just worried.”\\n\\n“Yeah, I am')\n",
      "--------------------------------------------------\n",
      "204 ('Most of the time.\\n\\n\"Aye, Papa. May I kiss Mama good night?\"\\n\\nEwan smiled. \"Of course.\"\\n\\nCrispen', ' kissed her mother\\'s cheek, then turned to Ewan. \"I\\'ll see you in the\\nmorning, Papa.\"\\n\\n\"Aye, lad.')\n",
      "--------------------------------------------------\n",
      "205 (\"She didn't get that he called her name for the very first time. Until now, he had called her Decima. Julia was sure he mixed up the\", ' names.\\n\\n\"I\\'m sorry, I didn\\'t mean to startle you,\" he said, his voice soft and gentle.\\n\\n\"It\\'s okay,\"')\n",
      "--------------------------------------------------\n",
      "206 ('The Kaltaures army was relentless; they surrounded the temple and ran through the village burning down everything in sight. \\nOnly Roland, an elder Lealian,', ' and a few other Lealians were able to escape. They hid in the forest, waiting for the Kaltaures to pass. \\nThe Kaltaures')\n",
      "--------------------------------------------------\n",
      "207 ('\"A food challenge should have been awesome, and instead, we just couldn\\'t keep it down. I know I\\'m disappointed.\"\\n\\n\"Annabelle,\"', ' I said, \"you\\'re not the only one who\\'s disappointed. I\\'m disappointed too.\"\\n\\n\"I\\'m sorry,\" she said. \"I\\'m sorry')\n",
      "--------------------------------------------------\n",
      "208 ('The first man I really wanted to think me pretty, and—\\n“When you don’t try so hard,” he finished.\\nI looked back up.', ' “What?”\\n“You don’t try so hard. You don’t try so hard to be pretty. You don’t try so hard to be the best')\n",
      "--------------------------------------------------\n",
      "209 ('You\\'re not fit for visitors yet.\"\\n\\nInterpreting the look on Raych\\'s face, Dors quickly added, \"I\\'m an exception because I', '\\'m your mother.\"\\n\\n\"I know,\" Raych said, \"but I\\'m not ready to be a father yet.\"\\n\\n\"You\\'re not ready to')\n",
      "--------------------------------------------------\n",
      "210 ('‘Why did you take so long to return? Did you find anything? And can you smell that awful smell?’\\nJack looked at the burning forest below them', '. ‘I’m not sure. I think I might have found something, but I’m not sure.’\\n‘What is it?’\\n‘I don’t')\n",
      "--------------------------------------------------\n",
      "211 ('He must have literally meant there were going to be several first clues.”\\n\\tDizzy was depressed. It was 9:45 and they were practically starting over', '.\\n\\t“We’re going to have to start over,” he said.\\n\\t“We’re going to have to start over,” she repeated.\\n\\t“We')\n",
      "--------------------------------------------------\n",
      "212 ('Overpowering your mind as you can overpower a human\\'s?\" \\n\\n\"Yes, and shielding his presence from me.\" There was mounting excitement in Stefan\\'s', ' voice. \"I can\\'t believe it! I can\\'t believe it! I can\\'t believe it!\" \\n\\n\"What?\" \\n\\n\"I can\\'t believe it')\n",
      "--------------------------------------------------\n",
      "213 ('\"Hmm.\" Her gaze travelled to the other side of the menu. \"Too many to choose from.\"\\n\\n\"What do you think of Bluebelle', '?\"\\n\\n\"It\\'s a nice place.\"\\n\\n\"It\\'s a bit of a hike, though.\"\\n\\n\"I\\'m not sure I\\'m up for a')\n",
      "--------------------------------------------------\n",
      "214 (\"I get closer within better view, but it seems I won't get close enough to throw my spear from here. I take a breath and think range.\\n\", '\"I\\'ll try to get closer, but I can\\'t get close enough to throw my spear from here.\"\\n\"I\\'ll try to get closer, but')\n",
      "--------------------------------------------------\n",
      "215 ('In that instant she knew that Roku had pushed one of his memories into her mind, just as he had done when he and Bastian were trying to convince', ' her to join them.\\n\\n\"I\\'m sorry, but I can\\'t do that,\" she said, her voice shaking. \"I can\\'t betray my friends')\n",
      "--------------------------------------------------\n",
      "216 ('The great master insisted that I return to your apartment and retrieve your plants, but did he give a thought to the poor wretch he sent out into the', \" cold and rain to do it? No, he didn't. He just sent me out to do it. I'm sure he didn't think I'd be\")\n",
      "--------------------------------------------------\n",
      "217 (\"Sarah's next call was to Rome's hotel in Los Angeles; he wasn't in, but she hadn't expected him to be at that time of day.\", ' She left a message for him to call her back.\\n\\nShe was about to call the hotel to check on him when she heard a knock on the door.')\n",
      "--------------------------------------------------\n",
      "218 ('He bolted up when he remembered, but a hand appeared on his chest. A very weary-looking Vikus pressed him back down into the sheets. \"', 'You\\'re not going anywhere, you hear me? You\\'re still recovering.\"\\n\\n\"I\\'m fine,\" he insisted. \"I\\'m fine.\"\\n\\n\"You')\n",
      "--------------------------------------------------\n",
      "219 ('It’s nice to see you again. Traveling far?”\\nAlyssa pulled her eyes away and glanced at the floor. “Yes,” she answered in', ' a low voice. “I’m sorry I haven’t been able to visit you in a while. I’ve been busy.”\\n“You’ve been busy?”')\n",
      "--------------------------------------------------\n",
      "220 ('And the day after that.\"\\n\\nMy heart thumped convulsively. It had happened. Against my will, despite the na**d girls and the smell', ' of the sea, I had fallen in love with him.\\n\\n\"I\\'m sorry,\" I said. \"I didn\\'t mean to make you feel bad.\"')\n",
      "--------------------------------------------------\n",
      "221 (\"'People are coming up with new ideas in ship design all the time. Are you going to reach ahead and bring us back a ship that hasn't been invented\", \" yet?'\\n'I'm not going to do that. I'm going to do what I've always done. I'm going to do what I've always\")\n",
      "--------------------------------------------------\n",
      "222 ('“Alex,” I said again, this time it came out sounding almost normal. Alex still did not respond. I reached up with my hand and shook him.', ' “Alex, wake up.”\\n\\nHe did not respond.\\n\\nI shook him again, harder this time. “Alex, wake up!”\\n\\nHe did not')\n",
      "--------------------------------------------------\n",
      "223 ('Flagging a cab, I jumped into the backseat. Directions to my apartment were the only thing that stopped me from bursting into tears then and there.\\n\\n', '\"I\\'m sorry, I\\'m sorry, I\\'m sorry,\" I kept saying to myself.\\n\\n\"It\\'s okay, it\\'s okay,\" the cab driver')\n",
      "--------------------------------------------------\n",
      "224 ('EBE-2 leads us to a place near another entrance and offers us water, at least we think it is water. Tastes like chemicals but it is', ' not. We drink it and it is not poison. We are not sure what it is but it is not poison. We are not sure what it is but')\n",
      "--------------------------------------------------\n",
      "225 ('“I know I talk sense, but if it were common, I don’t think our economy would be in such a mess.”\\nWith that her spot was over', ', and she was back to her seat.\\n“So, what’s the plan?”\\n“We’re going to have to go to the city, and')\n",
      "--------------------------------------------------\n",
      "226 ('Most people glanced at her, her stunning presence being so absorbing.  Lorenzo tore his sight away from where she was standing after getting her meal.  ', 'He was not sure if he was going to be able to eat anything.  He was not sure if he was going to be able to eat anything.  ')\n",
      "--------------------------------------------------\n",
      "227 ('I sat up and looked at him. \"Do you want me to go?\"\\n\\nHe shook his head. \"Nah. Just relax.\"\\n\\n\"Okay', '.\" I laid back down and closed my eyes.\\n\\n\"You know, I\\'m not sure if I should be worried about you or you.\"\\n\\n\"What')\n",
      "--------------------------------------------------\n",
      "228 ('“Give me a hand moving him, will you? I’ll take his shoulders and you can get the feet.”\\n“Uh, sure,” said Maklav', 'a, and he and the other man moved the body to the side.\\n“You know, I think I’m going to like this job,” said the')\n",
      "--------------------------------------------------\n",
      "229 (\"Now, the next item on the agenda - '\\nJock McLean burst back in at this point, breathless and indignant.\\n'It's\", \" not a question of whether or not I'm going to be a good father, it's a question of whether or not I'm going to be a good father\")\n",
      "--------------------------------------------------\n",
      "230 ('Collet motioned to two sealed evidence bags on the desk. \"And this?\" The man shrugged. \"Force of habit. I bag anything peculiar.\" Coll', 'et nodded. \"I\\'ll take them to the lab.\"\\n\\n\"I\\'ll be in the conference room.\"\\n\\nCollet nodded and left the room. He')\n",
      "--------------------------------------------------\n",
      "231 ('Frustrated at myself, I moved through the gates, catching sight of three older boys kicking a football against the school wall and talking. I recognized one of', ' them as the one who had been in the library with me.\\n\\n\"Hey, you\\'re that girl who was in the library with me, right?\" he')\n",
      "--------------------------------------------------\n",
      "232 (\"You certainly weren't trying to channel Brennan's energy, yet you did. It's a subconscious thing for you. You will both have to work hard to\", ' get it right.\"\\n\\n\"I\\'m not sure I can do it,\" Brennan said.\\n\\n\"You can do it,\" Angela said. \"You just have')\n",
      "--------------------------------------------------\n",
      "233 ('Hudson had said it was he that she was mad at, and maybe she was mad at him. But she hated me. It was evident in her', ' eyes. She hated me.\\n\\n\"I\\'m sorry,\" I said.\\n\\n\"I\\'m sorry too,\" she said.\\n\\n\"I\\'m sorry,\" I')\n",
      "--------------------------------------------------\n",
      "234 ('I shook my head, opening the gate.\\n\\nThere s no other way, Aislin. Time s up. This is it.\\n\\nWell, I', ' m not going to let you go.\\n\\nI m not going to let you go either.\\n\\nI m not going to let you go.\\n\\nI m')\n",
      "--------------------------------------------------\n",
      "235 ('Daemon asked.\\n\\n\"No, it just means I\\'ll have to knock you down first.\"\\n\\nYes, he knew that flavor of Lucivar\\'s temper', '.\\n\\n\"I\\'ll be back in a few minutes.\"\\n\\n\"I\\'ll be waiting.\"\\n\\n\"I\\'ll be back.\"\\n\\n\"I\\'ll be waiting')\n",
      "--------------------------------------------------\n",
      "236 ('The attendants are screaming and looking in every direction for some kind of instruction. But all I can focus on is getting Rhoda to safety. I search for', ' her in the crowd, but she\\'s nowhere to be found. I\\'m about to give up when I see her running towards me.\\n\\n\"Rhoda!\"')\n",
      "--------------------------------------------------\n",
      "237 ('The food was, incidentally, better than it smelled.\\n\\nShe put his salad in another bowl, dressed it and slid it along the counter to where he', ' was sitting.\\n\\n\"I\\'m not hungry,\" he said.\\n\\n\"You\\'re not hungry?\" she asked.\\n\\n\"I\\'m not hungry,\" he repeated')\n",
      "--------------------------------------------------\n",
      "238 ('\"Maybe when they get out they\\'ll think twice before getting drunk, or doing drugs, or showing off to their buddies before getting behind the wheel of a', ' car.\"\\n\"I don\\'t think so. I think they\\'ll be just as stupid as they were before.\"\\n\"I don\\'t think so. I')\n",
      "--------------------------------------------------\n",
      "239 ('“I will take you back if you truly wish for it.”\\nHer breath caught as it so very often did as she met his gaze, the warmth of his', ' eyes making her feel as if she were melting.\\n“You are not a monster, and I do not wish to be a monster.”\\n“Good.”')\n",
      "--------------------------------------------------\n",
      "240 ('“Veronica,” said Charles, in his usual arrogant tone, “I need you to meet me at the Pyrenees restaurant as soon as you possibly can', '. I have a very important matter to discuss with you.”\\n\\n“What is it?” Veronica asked, her voice dripping with sarcasm.\\n\\n“You')\n",
      "--------------------------------------------------\n",
      "241 ('\"In duty, you mean,\" Isabella said.\\n\\nHe laughed. \"Sassenach, if you believed marriage was for duty alone, you\\'d', ' be\\nmarried to a man who\\'d never leave his bed.\"\\n\\n\"I\\'m not sure I\\'d want to be married to a man who\\'d never leave')\n",
      "--------------------------------------------------\n",
      "242 ('“Aunt Jenny,” I began, “I recently got hold of a journal. Sarah Smalls’ journal.” \\nShe brightened up at mention of the name', '. “Oh, that’s the one. I’ve read it. It’s a great read. I’ve read it a few times.” \\n“Well,')\n",
      "--------------------------------------------------\n",
      "243 ('She would make sure he did not come into school today.\\nShirley had turned up for work, but was very fragile.\\n‘Are you sure', ' you are okay?’\\n‘I am fine, I am just a little tired.’\\n‘You should go home and rest.’\\n‘I will, I')\n",
      "--------------------------------------------------\n",
      "244 ('Evalle could count her friends on one hand, and none of them would help Kizira find her.\\n\\n\"Who told you we\\'d be together?\"', ' Kizira asked.\\n\\n\"I don\\'t know. I just know that I\\'m not going to let you go alone.\"\\n\\n\"I\\'m not going')\n",
      "--------------------------------------------------\n",
      "245 ('Yet Paul looked over at me as though he were grateful for the defense. I realized how close we were sitting-closer than we usually did, so near', ' that I could feel his breath on my face. I could smell his cologne. I could feel his body heat. I could see the sweat on his forehead')\n",
      "--------------------------------------------------\n",
      "246 ('Scarab asked, when they had all disrobed and settled into the frothy water, earthen goblets of some strange liquor in all their hands', '.\\n\\n\"I don\\'t know,\" said Scarab. \"I\\'ve never been to a party before.\"\\n\\n\"I\\'ve never been to a party before')\n",
      "--------------------------------------------------\n",
      "247 (\"Gardner Paleston called her every evening and talked to her for an hour. She had more potential than any other student he'd ever had, he said\", '.\\n\"She was a very bright girl,\" he said. \"She was a very bright girl.\"\\nHe said he was surprised when he heard the news')\n",
      "--------------------------------------------------\n",
      "248 ('Anyway, I thought it would be a good test of its strength if J.D. held it the proper way and I took a swing at it with the', \" sword. I was surprised when it didn't break. I was even more surprised when it didn't break when I swung it again. I was even more surprised\")\n",
      "--------------------------------------------------\n",
      "249 ('The double deuces slipped into gear and followed Riley\\'s Humvee as it turned onto the taxiway, then the main runway.\\n\\n\"Step on it,', ' Riley,\" said the pilot. \"We\\'re going to be late.\"\\n\\n\"I\\'m on it,\" said Riley.\\n\\nThe Humvee accelerated, and the')\n",
      "--------------------------------------------------\n",
      "250 (\"I think my family's figured out which world I ran away to and they're probably coming to get me.  But I don't want to go!  \", \"I don't want to go back to the world I came from.  I don't want to go back to the world I was born in.  I\")\n",
      "--------------------------------------------------\n",
      "251 ('She looked at Garrett and remembered the face of a small boy standing next to his mother in the family photo at his sister’s house. “How’s the weather', '?” she asked.\\n\\n“Cold,” he said.\\n\\n“You’re not wearing a coat,” she said.\\n\\n“My mom said I should wear a')\n",
      "--------------------------------------------------\n",
      "252 ('It had sharp claws for rending and tearing. One eye was wide open and staring at them through the thick wall of ice.\\n\\nJoie let her breath', ' out in a rush. \"It\\'s a dragon!\"\\n\\n\"A dragon?\"\\n\\n\"Yes, a dragon!\"\\n\\n\"A dragon?\"\\n\\n\"Yes,')\n",
      "--------------------------------------------------\n",
      "253 ('\"What\\'s going on?\" Bonnie asked, sitting down, wiping at her eyes again. Fallen rose petals dotted the bench, and she flicked some', ' of them away.\\n\\n\"I\\'m sorry, Bonnie. I\\'m so sorry.\"\\n\\n\"What happened?\"\\n\\n\"I\\'m not sure. I was just')\n",
      "--------------------------------------------------\n",
      "254 ('Jia steered the carriage up into the hills and they finally arrived at a ridge overlooking a valley. This valley was filled with thousands of mulberry trees.', ' The trees were so thick that they blocked out the sun and the air was thick with the smell of mulberry leaves.\\n\\n\"This is where we will stay')\n",
      "--------------------------------------------------\n",
      "255 ('I couldn’t prevent myself from opening the third doll. As I twisted it ajar, I imagined that I could hear Alexander crying out in pain. This particular', ' doll was a little different from the others. It was a little smaller, and it had a different color. It was a little more feminine. I opened the')\n",
      "--------------------------------------------------\n",
      "256 (\"That this could very well be the end of the trail, and there was no Cassie here. He couldn't concentrate on that thought, he would snap if\", ' he did.\\n\\n\"I\\'m sorry, I\\'m sorry, I\\'m sorry, I\\'m sorry, I\\'m sorry, I\\'m sorry, I\\'m sorry')\n",
      "--------------------------------------------------\n",
      "257 (\"Jackie looked at the other woman, studying her, looking for the family resemblance in the woman who was apparently her half sister.\\n\\nHelen's brown hair\", ' was cut short, and she had a small, almost boyish, nose. Her eyes were a deep brown, and her skin was a light olive. She')\n",
      "--------------------------------------------------\n",
      "258 ('It was changing color again, the green bleeding into blue. He replaced it. Neither of us mentioned the change. \\n“So a girl has to be easy', ' to get along with, huh?” I asked. \\n“Yeah, I guess so.” \\n“Well, I’m not easy to get along with.” \\n')\n",
      "--------------------------------------------------\n",
      "259 (\"******\\n\\nThe following morning about eleven o'clock d'Angelay walked quickly into my room and shut the door. I saw immediately from his manner that something\", ' was wrong.\\n\\n\"What is it?\" I asked.\\n\\n\"I have just received a letter from the Duke of Wellington.\"\\n\\n\"What does it say')\n",
      "--------------------------------------------------\n",
      "260 ('Todd replied: No I thought you looked familiar but I can’t recall.                                                                    The stranger told Todd: I’m Enoch; we met in your', ' dream. Todd: Enoch? Enoch: Yes. Todd: I’m Todd. Enoch: I know. Todd: I’m sorry. Enoch')\n",
      "--------------------------------------------------\n",
      "261 ('“Sure.” Sara and Victoria both nodded.\\n“So what about me? Am I not trusted to bake a cake or what?” The three girls turned their', ' heads to see a very confused and slightly annoyed looking Sara.\\n“Oh, sorry. We forgot to tell you that you can’t bake a cake.” Victoria')\n",
      "--------------------------------------------------\n",
      "262 ('At least he wasn\\'t one of those \"on the make\" guys who kept one in his wallet \"just in case.\"\\n\\n\"Hang on, let me', ' get my wallet.\"\\n\\n\"No, I\\'ll get it.\"\\n\\n\"No, I\\'ll get it.\"\\n\\n\"No, I\\'ll get it.\"\\n\\n')\n",
      "--------------------------------------------------\n",
      "263 ('“If there was a tracking device in the chopper, they’ll know where we crashed.”\\n“I bet they know anyway,” said Marius. “It', '’s not like they’re going to be able to track us down.”\\n“We’re not going to be able to track them down,” said the pilot.')\n",
      "--------------------------------------------------\n",
      "264 ('\"Sorry about the heat,\" she said. \"My AC went out two weeks ago, and I just haven\\'t been around to replace it.\" Sheaves of', ' paper were strewn across the table, and she picked up a stack and began to sort through them. \"I\\'m not sure what I\\'m looking for.')\n",
      "--------------------------------------------------\n",
      "265 ('Zoe’s mother seemed to like him well, so he thought that his chances were pretty good.\\nZoe was waiting for him outside her apartment building when', ' he arrived. She was wearing a black dress that hugged her curves and showed off her long legs. She had on a pair of black heels that made her look')\n",
      "--------------------------------------------------\n",
      "266 ('\"And that\\'s bad?\"\\n\"Yes. You want to know that you\\'re giving money to good people, after all. That\\'s what your board does', '. It\\'s a good thing.\"\\n\"I don\\'t know. I don\\'t know what I want.\"\\n\"You want to be a good person.')\n",
      "--------------------------------------------------\n",
      "267 (\"As I looked at Hailey's album, I could tell that her arrival had been a blessed occasion.  I could see I was older in the picture,\", ' and I could see that Hailey was a beautiful young woman.  I could see that she was a beautiful young woman who had been blessed with a beautiful young')\n",
      "--------------------------------------------------\n",
      "268 ('‘Oh yes, dear,’ Nell replied. ‘I’ve seen it all before. Coal.’\\nMary pulled Nell away. ‘Nell, the', ' children are here. They’re waiting for you.’\\n‘I know,’ Nell said. ‘I’ll be right there.’\\nMary looked at her,')\n",
      "--------------------------------------------------\n",
      "269 ('Carlos\\'s tanned face took on a reddish hue. \"No, sir.\"\\n\\nCaitlyn felt her own cheeks warm with a blush.', ' \"I\\'m sorry, Carlos. I didn\\'t mean to embarrass you.\"\\n\\n\"It\\'s okay, ma\\'am. I\\'m just glad you\\'re okay')\n",
      "--------------------------------------------------\n",
      "270 (\"Helping Elisabeth wasn't only the right thing to do; it was also important to Fabian. Really, what other choice did I have?\\n\\nCool\", ', calm, and collected, I walked into the kitchen. I was greeted by a very surprised Fabian.\\n\\n\"What are you doing here?\" he asked')\n",
      "--------------------------------------------------\n",
      "271 ('Then he looked up at me and spoke with difficulty, as if he were confessing to me.\\n“Nathan, I’ve been a bit rough on', ' you. I’m sorry. I’m sorry for everything. I’m sorry for the way I’ve treated you. I’m sorry for the way I’ve treated')\n",
      "--------------------------------------------------\n",
      "272 ('Cap steps into the elevator and presses the button for the twentieth floor. “Well, I suppose you can walk me home,” he says. He grabs the bars', 'tool and sits down. “I’ll be fine.”\\n\\n“You’re not fine,” I say. “You’re not okay.”\\n\\n“You’re right')\n",
      "--------------------------------------------------\n",
      "273 ('Back up is on the way.\\n\\nNiccolo felt his stomach knot. Inferno! More were indeed coming. He was in no shape to fight. On', ' the other hand, he had to get to the others. He had to warn them.\\n\\n\"Niccolo!\"\\n\\nHe turned to see the others running towards')\n",
      "--------------------------------------------------\n",
      "274 ('Old Yeller, the ugly hound Alexa convinced Nick to keep more than a year ago, lay in the small patch of sun leaking through the window and watched', ' the two of them.\\n\\n\"I\\'m not going to hurt you,\" Nick said. \"I\\'m not going to hurt you.\"\\n\\n\"I know,\"')\n",
      "--------------------------------------------------\n",
      "275 (\"I returned to swimming wondering what I'd done to obviously offend him but with bigger things to think about. Ten laps later, I was ready to begin my\", ' second day of training.\\n\\nI was in the middle of my second lap when I heard a voice behind me. \"Hey, you\\'re the new girl,')\n",
      "--------------------------------------------------\n",
      "276 ('Vaxili moved towards him but Izebol waved him away with an abrupt gesture that stopped Vaxili short as if he had been struck in the face', '.\\n\\n\"I am not a child, Vaxili. I am a man. I am not afraid of you. I am not afraid of anything.')\n",
      "--------------------------------------------------\n",
      "277 (\"His face cleared of expression, almost as if a curtain slammed down, closing out any audience to his soul.\\n\\nShe hadn't reached his inner depths yet,\", ' but she was getting closer.\\n\\n\"I\\'m sorry,\" he said, his voice low and rough. \"I\\'m sorry I didn\\'t tell you. I')\n",
      "--------------------------------------------------\n",
      "278 (\"That made a million questions tear through his mind-almost made him stop running. Mistress Jane. He couldn't possibly accept that she was on his side.\", \" He couldn't possibly believe that she was on his side.\\n\\nHe had to get away. He had to get away from her. He had to get away\")\n",
      "--------------------------------------------------\n",
      "279 ('He scowled at Ben and Parkman and then looked questioningly at Paulson.  He had evidently seen the posse bring them in and could not', ' understand why they were not being taken to the jail.  He was not a man to be trifled with.  He was a man who had been in')\n",
      "--------------------------------------------------\n",
      "280 ('Then he turned to Mitzy and kissed her full on the mouth.\\nHer head spun. Her heart beat like thunder.\\nShe wrapped her arms around him', ' and kissed him back.\\nHe pulled away and looked at her. \"I love you, Mitzy.\"\\n\"I love you, too, Jack.\"')\n",
      "--------------------------------------------------\n",
      "281 ('He not only relished the task of ferreting out the provenance of some obscure artwork, but also enjoyed the recognition from her as a quasi authority.', '\\n\"I was very pleased with the way she handled the situation,\" he said. \"She was very good at it. She was very good at getting the')\n",
      "--------------------------------------------------\n",
      "282 ('It was an illusion, of course, as most masks a vampire chose to wear were, but it was a face Vikirnoff recognized. Arturo had', ' been a vampire for a long time, and he had been a very good one.\\n\\n\"I\\'m sorry, Arturo,\" Vikirnoff said,')\n",
      "--------------------------------------------------\n",
      "283 ('“So how do you know about it?” Noah asks. “Because, you see, this isn’t Koolibar Street. Not any more. It’s', ' a different world now. A world where the only thing that matters is the money. And the only thing that matters is the money.”\\n\\n“You’re wrong')\n",
      "--------------------------------------------------\n",
      "284 ('They are a treat where I come from.\"\\n\\nHe made Madam Octa push a ball across the table, then got her to balance on top of it', '.\\n\\n\"I\\'m not sure I like this,\" she said.\\n\\n\"You\\'ll get used to it,\" he said.\\n\\n\"I don\\'t think')\n",
      "--------------------------------------------------\n",
      "285 ('Ishmael walked up and down to try the new leg and went to find Jonr:\\n“The new leg!” he declared, turning it this way and', ' that. “It’s perfect! I can’t wait to try it out!”\\nJonr smiled and nodded. “I’m glad you like it,” he')\n",
      "--------------------------------------------------\n",
      "286 (\"“Get your hands off me,” Rashi protested. “Don't you know who I am? I can't be treated this way.” And he looked at\", ' the other men, who were all staring at him with wide eyes. “What are you looking at?” he demanded.\\n\\n“You’re the one who’s')\n",
      "--------------------------------------------------\n",
      "287 ('\"You told her we were having an affair,\" Ethan said. \"That\\'s messed up.\"\\n\\nShe thinned her lips in a tight smile. \"', \"I didn't tell her anything. I just\\ntold her that I was going to be in town for a few days and that I'd be staying\\n\")\n",
      "--------------------------------------------------\n",
      "288 ('\"Lissa, will you sit down and talk with me for a bit?\" Winkler asked.\\n\\nThere was a nice chair in the corner of the', ' room, and Lissa sat down. \"What\\'s wrong?\" she asked.\\n\\n\"I\\'m not sure,\" Winkler said. \"I\\'m not')\n",
      "--------------------------------------------------\n",
      "289 ('Dizzy was just a kid and Justin couldn’t hurt him without significant punishment. Dizzy took a breath to calm down and turned back to the pig', '. “I’m sorry, I didn’t mean to scare you.”\\n\\n“You didn’t scare me,” the pig said. “I’m just a little')\n",
      "--------------------------------------------------\n",
      "290 ('I think I\\'ll take in some air before Tanner comes back for us.\"\\n\\nI relayed Mayzie\\'s order to Christina, who had slipped back behind', ' the counter.\\n\\n\"I\\'ll be right back,\" I said.\\n\\nI walked out the back door and down the alley to the dumpster. I pulled')\n",
      "--------------------------------------------------\n",
      "291 ('He must still be enamored with having to endure his sister-in-law’s lack of cleaning capabilities.\\n“Are there any messages for me?', ' I’m not sure if I should read them.”\\n“You can read them if you want to. I’m not going to stop you.”\\n“Thank')\n",
      "--------------------------------------------------\n",
      "292 ('He lurched to his feet, picked up the nearest object, a shoe, and hurled it at a locker.\\n\\n\"What\\'s that noise?\" the', ' girl asked.\\n\\n\"I don\\'t know,\" he said. \"I\\'m sorry.\"\\n\\n\"It\\'s okay,\" she said. \"I\\'m sorry,')\n",
      "--------------------------------------------------\n",
      "293 ('Cameron looked between Julian and Zane as Zane moved the hand bracing his gun and slid it into his jacket. He pulled out a leather wallet and', ' handed it to Cameron.\\n\\n\"I\\'m sorry, I don\\'t have any ID on me.\"\\n\\n\"It\\'s okay, I\\'m sure you\\'ll find')\n",
      "--------------------------------------------------\n",
      "294 ('I cross over to the corner where Aden is lying down with his back facing me.\\nI climb in my cot and stare at the roof, repeating Ade', 'n\\'s words over and over in my head.\\n\"I\\'m sorry, I\\'m sorry, I\\'m sorry.\"\\nI\\'m sorry.\\nI\\'m')\n",
      "--------------------------------------------------\n",
      "295 ('“Oh, just looking around,” she said.\\n“You’re going to get us kicked out,” said Ronni. And wouldn’t that just round off', ' the evening?\\n“Oh, I’m sure I’ll be fine,” said the woman. “I’m just looking around.”\\n“Well, we’re')\n",
      "--------------------------------------------------\n",
      "296 ('\"Erin talked to a reporter,\" Liz told him. Erin was Brady\\'s ex-girlfriend. They had broken up after he had visited Liz in October', '.\\n\\n\"What did she say?\"\\n\\n\"She said that she was going to get a divorce.\"\\n\\n\"That\\'s good,\" he said. \"I')\n",
      "--------------------------------------------------\n",
      "297 ('Ms. D\\'Miagmo was that teacher.\\n\\nTrystan opened his mouth, but Brie cut him off, \"Ms. D\\'Miag', 'mo was that teacher. She was the one who taught me how to read and write. She was the one who taught me how to do my homework. She')\n",
      "--------------------------------------------------\n",
      "298 ('\"Is that…?\" Zach asked.\\n\"There\\'s no way Kiyu dropped it twice.\" I crept closer.\\n\"Not a good idea,', ' mate,\" Zach said. \"She\\'s got a gun.\"\\n\"I know.\" I reached for the gun.\\n\"No, you don\\'t,\" Zach')\n",
      "--------------------------------------------------\n",
      "299 ('\"I know my limitations; I\\'m good at building museum-quality model railways that make people gasp with delight and amazement, but I\\'m not', \" a designer. I'm a builder. I'm a builder of models, not a designer of models. I'm a builder of models, not a designer of\")\n",
      "--------------------------------------------------\n",
      "300 (\"You know how hypnotized people can get a blister if you tell them that you're touching them with something hot-even if it isn't hot.\", \"\\nI'm not telling you to do that.\\nI'm telling you to do that.\\nI'm telling you to do that.\\nI'm telling\")\n",
      "--------------------------------------------------\n",
      "301 ('“Can you give me your cell phone number?” she said. “I may need to talk to you again.” After Georgina gave her the number, Sam', ' said, “I’ll call you.”\\n\\n“Okay,” Georgina said. “I’ll see you soon.”\\n\\n“Bye,” Sam said.\\n\\n')\n",
      "--------------------------------------------------\n",
      "302 ('The choice of the opposing team was to get the ball in the first half. Hardy walked back to the sidelines, scanning the crowd again for any sign of', \" the other team. He saw the opposing team's bench, and he saw the opposing team's coach. He saw the opposing team's players, and he saw\")\n",
      "--------------------------------------------------\n",
      "303 (\"Maximilian watched from a tower and despaired. He could understand Atalai's grief but he could not condone open warfare and decided to try\", ' to talk to the man.\\n\\n\"Atalai, I am sorry for your loss. I know how much you loved her. I am sorry for your')\n",
      "--------------------------------------------------\n",
      "304 ('“I discovered that fact when I took over the listing after Brenda’s death,” Walker said tightly. “How did you find out?”\\n“I asked Detective Grim', 'es,” she said. “He told me.”\\n“You told him about the murder?”\\n“Yes. I told him about the murder and the fact')\n",
      "--------------------------------------------------\n",
      "305 ('“Anyone who has spent time in a kitchen can tell the difference,” replied Vasquez. “I know your wife does all the cooking just by that comment', ' alone.”\\n\\n“She’s a good cook,” said the man. “She’s a good cook.”\\n\\n“You’re a good cook,” said Vasquez')\n",
      "--------------------------------------------------\n",
      "306 ('‘I have noticed that there is something different about you, you are always humming to yourself, you are more absent minded than usual, yet you seem to', ' be more focused than usual, you are also more relaxed, you are not as tense as you usually are, you are not as angry as you usually are,')\n",
      "--------------------------------------------------\n",
      "307 ('Andre brought her hands to his lips and brushed them with kisses. \"I hate to see you so blue, mon tresor.\"\\n\\nThat rated a genuine', ' smile from her. \"I\\'m not blue, I\\'m just tired.\"\\n\\n\"You\\'re not tired, you\\'re just sad.\"\\n\\n\"I\\'m not')\n",
      "--------------------------------------------------\n",
      "308 ('A little shaken, I continued toward the lighthouse, which now loomed larger, almost heavy, its black-and-white stripes topped with red making it', ' look like a giant, glowing eye. I was still a little shaken, but I was also curious. I wanted to know what was inside the lighthouse.')\n",
      "--------------------------------------------------\n",
      "309 ('Dixon sighed heavily, muttered a ripe epithet under his breath and told himself to get to work. But the hardest work that lay ahead, he realized then', ', was to get his mind off the woman he\\'d just left.\\n\\n* * *\\n\\n\"I\\'m sorry, I\\'m sorry, I\\'m sorry,\"')\n",
      "--------------------------------------------------\n",
      "310 ('Chris’s voice had come from Paige’s left.\\nAn electric buzzing sound cycling between highs and lows came from the same direction.  \\nPa', 'ige’s eyes widened.\\n“Oh my god, I’m so sorry.”\\nShe turned to face the source of the noise.\\n“Oh, it')\n",
      "--------------------------------------------------\n",
      "311 ('He had done several jobs for Alcander and had been strung along with very little in return.\\n\"Let\\'s talk,\" said Alcander. The glass', ' door slid open and they stepped into the\\noffice.\\n\"I\\'m not sure I want to talk,\" said the man.\\n\"I\\'m not asking')\n",
      "--------------------------------------------------\n",
      "312 (\"'As far as we can understand it, he's creating a new home for wizardry'\\n\\nStreamers of coloured light flashed about the indistinct ovoid\", \" shape, and the light was suddenly gone.\\n\\n'What's that?' asked Harry, pointing at the spot where the light had been.\\n\\n'It's\")\n",
      "--------------------------------------------------\n",
      "313 ('Liam took the mug from my hand and sipped it. \"Nice.\"\\n\\n\"Get your own.\"\\n\\nHe grinned. \"Why? Never learned to', ' cook?\"\\n\\n\"I\\'m not a good cook.\"\\n\\n\"You\\'re not a bad cook.\"\\n\\n\"I\\'m not a good cook.\"\\n\\n\"You')\n",
      "--------------------------------------------------\n",
      "314 ('The Hathaway girl?\"\\n\\n\"Rose?\" she asked in astonishment. \"Why do you - ? Yes, of course. I\\'ll get her.\"', '\\n\\n\"I\\'ll go with you,\" said Rose.\\n\\n\"No, you won\\'t,\" said the Doctor. \"You\\'re not going anywhere until I\\'ve')\n",
      "--------------------------------------------------\n",
      "315 ('“It just gets weirder, doesn’t it?” asked Julianna.\\n“It certainly seems to,” Dr. Hendricks agreed. “Now what do', ' you think of this?”\\nJulianna looked at the picture of the woman in the picture. “I think she’s pretty,” she said.\\n“')\n",
      "--------------------------------------------------\n",
      "316 ('They’d never seen anyone like you. But I had. I realized I hadn’t imagined it. Ty did have a tail.”\\n“Was that his name', '?”\\n“Yes. Ty. He was a good dog. He was a good dog.”\\n“He was a good dog.”\\n“He was a')\n",
      "--------------------------------------------------\n",
      "317 ('“Ah, well. I only came early tonight because I will be very late tomorrow. A dinner.”\\n“I know. I’ve been invited.”\\nSin', 'a’s eyes widened. “You have? To what?”\\n“To a dinner. I don’t know who it’s for, but I’m sure it')\n",
      "--------------------------------------------------\n",
      "318 ('The detectives exchanged a look.\\n\\n\"Did you threaten her?\" asked Detective Holstijic.\\n\\n\"No.\"\\n\\n\"Where did you go after the', ' murder?\"\\n\\n\"I went to the hospital.\"\\n\\n\"What hospital?\"\\n\\n\"The one in the city.\"\\n\\n\"What hospital?\"\\n\\n\"The one')\n",
      "--------------------------------------------------\n",
      "319 ('~\\nIsaac pointed out the graves as they rode up.  There were small little crosses that he had fashioned to mark out each one; nothing fancy', ', just a simple cross with a little bit of wood and a bit of cloth.  He had made them for his mother, his father, and his brother')\n",
      "--------------------------------------------------\n",
      "320 ('A boy? Drugs? You can get anything you want here in Cancun, and I can take you there,” Pedro said.\\n“Just take me back', ' to my hotel,” the boy said.\\n“You’re not going anywhere,” Pedro said.\\n“You’re not going anywhere,” the boy said.\\n')\n",
      "--------------------------------------------------\n",
      "321 ('\"I see you took out a few of the guests.\"\\n\\n\"Guests?\"\\n\\n\"Don\\'t worry, they had it coming. But there\\'re three', ' more coming.\"\\n\\n\"Three more?\"\\n\\n\"Yes, three more. I\\'ll be back in a few minutes.\"\\n\\n\"Wait, what about the others')\n",
      "--------------------------------------------------\n",
      "322 ('Kind people had dropped off a cold-cut platter so the Wynns could have sandwiches whenever they were hungry, and a pie, though Phillip anxiously told', ' his mother that he didn\\'t want to eat pie.\\n\\n\"I\\'m not hungry,\" he said.\\n\\n\"You\\'re not hungry?\" his mother said.')\n",
      "--------------------------------------------------\n",
      "323 ('As they began to argue playfully I went back to the textbook, opening to the appropriate page displayed on the front board and began to read the assignment.  ', \"I was so engrossed in the book that I didn't notice the door open and close.  I was startled when I felt a hand on my shoulder\")\n",
      "--------------------------------------------------\n",
      "324 ('\"The most important thing,\" Elena was saying earnestly, \"is to protect Meredith. We\\'ve gotten a warning, and we need to take advantage', ' of it.\"\\n\\n\"I\\'m not going to let you go alone,\" Stefan said.\\n\\n\"I\\'m not asking you to,\" Elena said. \"I')\n",
      "--------------------------------------------------\n",
      "325 (\"Her brow furrows like she's still working all this out. Her blue eyes are heavy and I can see her struggle to push her way through the cobweb\", 's of her mind.\\n\\n\"I\\'m sorry,\" she says. \"I\\'m sorry I didn\\'t tell you. I\\'m sorry I didn\\'t tell you')\n",
      "--------------------------------------------------\n",
      "326 ('Dane held onto it in order to keep his balance and was relieved to see Bryn was secure in her position for the present.  A few loosened', ' strands of hair fell from her braid and Dane reached out to brush them away.  He was surprised to find that Bryn was still awake.  ')\n",
      "--------------------------------------------------\n",
      "327 ('It’s addressed to Station 982. That’s us, Abbu. We should open it.”\\n“I will wait for the letter.”\\n“What letter', '?”\\n“You’ll see.”\\nAbdullah was confused. He had no idea what was going on. He was just a simple man who had')\n",
      "--------------------------------------------------\n",
      "328 (\"Not that Catherine wouldn't set anyone's nerves on edge, but in the past, Bailey had been able to toss off a joke, roll those protuberant\", ' eyes, and make a joke about it.\\n\\n\"I\\'m not sure I can do this,\" Bailey said.\\n\\n\"You can do this,\" Catherine said')\n",
      "--------------------------------------------------\n",
      "329 ('“He told me that the castor bean poison had been mixed into the frosting and that that would make me the best suspect, chemistry and baking.”\\n', '“He was right,” said the detective. “I’ve been working on the case for a year and I’ve never been able to find the poison. I')\n",
      "--------------------------------------------------\n",
      "330 ('He slowly increased the power of the left engine to make sufficient speed to navigate closer to the sinking yacht. He was cross with himself that he could not master a', ' simple task like this. He had to be careful not to hit the yacht with the left engine. He had to be careful not to hit the yacht with the')\n",
      "--------------------------------------------------\n",
      "331 ('Lady Maccon grappled for some appropriate response.\\n\\nFelicity added, in a blatant attempt at distraction, \"Speaking of which, you have gotten tremendous', 'ly better at this whole \\'not-being-a-bitch\\' thing. I\\'m impressed.\"\\n\\n\"I\\'m not a bitch,\" said Alex,')\n",
      "--------------------------------------------------\n",
      "332 ('But, the first time, in the reality I was born into, Napoleon won, and subjugated Britain and the rest of Western Europe to nearly 200', ' years of tyranny.\\nThe second time, in the reality I was born into, the British Empire was defeated, and the British people were liberated from')\n",
      "--------------------------------------------------\n",
      "333 ('“Alright, there should be a page in here \\nsomewhere,” he said aloud as he paged through the book, eventually stopping at a page near', ' the back. “Here it is. It’s a list of all the things that can be done with a soul gem. I think I found it.”\\n\\n')\n",
      "--------------------------------------------------\n",
      "334 ('We need to follow the evidence, and so far this still has a lot of questions.”\\n“That’s where I have the advantage, John.  I', ' have the evidence.  I have the evidence that the man who killed my father was a member of the Brotherhood of Steel.  I have the evidence that he')\n",
      "--------------------------------------------------\n",
      "335 ('\"You there,\" he called, raising his voice, \"send word to the camp-\"\\n\\n\"Why are you talking to them?\" Arkady said. \"', 'They\\'re not your friends.\"\\n\\n\"I\\'m not talking to them,\" he said. \"I\\'m talking to the people who are going to help us.\"')\n",
      "--------------------------------------------------\n",
      "336 ('Answered all the questions truthfully but she didn\\'t give up anything that would have complicated your life.\"\\n\\n\"Glad to hear that,\" Lawson said,', ' \"I\\'m glad you\\'re here. I\\'m going to need your help.\"\\n\\n\"What do you need?\"\\n\\n\"I need you to find out who')\n",
      "--------------------------------------------------\n",
      "337 ('It was eerily quiet inside the house—the same nap-inducing breeze was coming through the window. But that’s the view from the hallway. I have', ' a view of the living room, and the living room is where I’m standing.\\n\\nI’m standing in the living room, and I’m looking at the')\n",
      "--------------------------------------------------\n",
      "338 ('“Yes, I thought I was going to lose the baby.”\\n“I was scared too,” he stated, sincerity flooding his eyes.\\n“You were', '?”\\n“Yes, I was. I was scared that I would lose you. I was scared that I would lose our baby. I was scared that I')\n",
      "--------------------------------------------------\n",
      "339 ('\"Who\\'ll even know? Don\\'t you trust me?\"\\n\\nHelena suddenly found herself pinned beneath him. A flicker of anger danced in his eyes.', ' \"I trust you, Helena. I trust you with my life. I trust you with my heart. I trust you with my soul. I trust you with')\n",
      "--------------------------------------------------\n",
      "340 ('\"I know, we still have lots to talk about, but it\\'s hardly as if I\\'m going to bolt now. This could be a great chance for', ' us to get to know each other better.\"\\n\\n\"I\\'m not sure I\\'m ready for that yet.\"\\n\\n\"I\\'m not either, but I think')\n",
      "--------------------------------------------------\n",
      "341 ('He took his menu and opened it, and I was astounded by the next words that came out of his mouth.\\n\\n\"But we are not friends Elle', '. We are not friends. We are not friends.\"\\n\\nI was shocked. I was so shocked that I didn\\'t know what to say. I just sat')\n",
      "--------------------------------------------------\n",
      "342 ('I felt like it wasn’t alright for me to be there without Robyn. I got back into my car and headed home. Although it no longer sounded so', ' bad, I still felt like I was being watched. I was so paranoid that I would be followed. I was so paranoid that I would be attacked. I')\n",
      "--------------------------------------------------\n",
      "343 ('The Queen has—”\\n“No takers, Nancy,” said Duke, punching Bland in the groin.  The British secret agent went down,', ' clutching his groin.  “You’re a dead man, Nancy.”\\n“You’re a dead man, Duke,” said Bland, getting up')\n",
      "--------------------------------------------------\n",
      "344 ('Just as Angie was completing her thought Chris walked into the bathroom.  She looked at Angie and me, then she handed me a card.\\n\"', 'I\\'m sorry, I don\\'t know what this is for, but I\\'m sure it\\'s important.\"\\n\"It\\'s for you.\"\\n\"What?\"')\n",
      "--------------------------------------------------\n",
      "345 ('And where did you get the unsweet kind?\"\\n\\nHe was right. I had been drinking my weight in chocolate milk since sixth grade. But over the last', ' few years, I had been trying to cut back. I had been trying to be a better person. I had been trying to be a better person.\\n\\n')\n",
      "--------------------------------------------------\n",
      "346 ('Screaming \"No,\" she did her best imitation of a dolphin leaping out of the water and threw herself out of the chair at Dee. She', ' landed on her back, and Dee was on top of her, pinning her arms above her head.\\n\\n\"You\\'re not going anywhere, you little bitch')\n",
      "--------------------------------------------------\n",
      "347 ('A second meal was served in the late afternoon. \\n\\xa0\\nIf you are interested in learning more about the Medieval period, head over to the author’s website', ', http://www.medieval-history.com/\\n\\xa0\\n\\xa0\\n\\xa0\\n\\xa0\\n\\xa0\\n\\xa0\\n\\xa0\\n\\xa0\\n\\xa0\\n\\xa0')\n",
      "--------------------------------------------------\n",
      "348 ('She opened her mouth to apologize when Nicholas burst out the front door, his face grim. \"You need to come inside. We have a situation.\"\\n\\nLog', 'an\\'s heart sank. \"What\\'s wrong?\"\\n\\n\"It\\'s the police.\"\\n\\n\"What?\"\\n\\n\"They\\'re here.\"\\n\\n\"What?\"\\n\\n')\n",
      "--------------------------------------------------\n",
      "349 ('But it doesn’t help me, does it?’\\nAmy gurgled and Tommy clutched his mother’s skirt.\\nMary put an arm around Clara and', ' said, ‘I’m sorry, Clara. I’m sure you’re a wonderful mother, but you’re not a mother to me. I’m sorry.’\\n')\n",
      "--------------------------------------------------\n",
      "350 ('“You are up early,” said Vo. “Most tourists get here late.”\\n“I’m not a tourist,” said Ana. \\n“Oh, right.', ' You’re a local,” said Vo. “I’m sorry. I didn’t mean to offend you.”\\n“You didn’t,” said Ana. “')\n",
      "--------------------------------------------------\n",
      "351 (\"That was not some scheme to get revenge on Addison, at least not on my end. Didn't it feel real to you? I could not fake that\", '. I could not fake that I was in love with her. I could not fake that I was in love with her. I could not fake that I was')\n",
      "--------------------------------------------------\n",
      "352 ('I don\\'t know a better way of explaining it to you.\"\\n\\n\"So that\\'s what you fought last night, like pure unadulterated evil', '?\"\\n\\n\"Yes.\"\\n\\n\"And you\\'re not going to tell me what it was?\"\\n\\n\"No.\"\\n\\n\"Why not?\"\\n\\n\"Because I')\n",
      "--------------------------------------------------\n",
      "353 ('She returns and says everything looks okay, but there are some motion sensor lights on the house on the right. Bernie Kosar flies away, perching himself on', ' the roof of the house.\\nBernie Kosar is a very smart dog. He knows that the motion sensor lights are on the house on the right.')\n",
      "--------------------------------------------------\n",
      "354 (\"*Wait,* Graysfang said.\\n\\nThat's when she saw the small golden bump between his ears. The bump lifted, floated to the nearest perimeter stake\", ', and then fell back down.\\n\\n\"What the hell?\" Graysfang said.\\n\\n\"I don\\'t know,\" said the guard. \"I don')\n",
      "--------------------------------------------------\n",
      "355 ('But as you know, Macklin had little experience of powerful feelings. He was convinced it was a near-death experience, and made a mental note to have', ' a word with the doctor.\\n\\nHe was also convinced that he had been in a coma for a long time.\\n\\nHe was also convinced that he had been')\n",
      "--------------------------------------------------\n",
      "356 (\"I squinted at the creature, and saw a dark circle under its belly. “It's under its belly, but you have to get by the sting\", \"er.”\\n\\n“What stinger?”\\n\\n“That one.” I pointed to the one on the creature's back. “It's a stinger, and\")\n",
      "--------------------------------------------------\n",
      "357 ('Four peripherals, Bryn. \\u200a\\u200aAt the Wayfarer.\\n\\nThrough the bond, I could feel Chase getting closer, moving faster, and', ' I knew he was getting ready to take me. I could feel his cock, hard and ready, and I knew he was going to fuck me. I could')\n",
      "--------------------------------------------------\n",
      "358 ('\"Will you tell me ... what I am?\"\\n\\n\"You\\'re an angel,\" she repeated slowly, surprised to see Daniel close his eyes and moan in', ' pleasure. \"You\\'re an angel, Daniel.\"\\n\\n\"I\\'m an angel,\" he repeated, his voice a low, husky whisper. \"I\\'m')\n",
      "--------------------------------------------------\n",
      "359 ('They all put their hands in the middle of the circle and repeated the chant.\\n\\tAs the match restarted Herstaff grabbed the dynamite, passed across', ' the circle and threw it at the wall.\\n\\tThe dynamite exploded, sending a shower of sparks and debris into the air.\\n\\tThe match was over.')\n",
      "--------------------------------------------------\n",
      "360 ('The battery on Logan’s radio must have been on the way out. So he told himself. There was no other explanation beyond Cygan and the staff at the', ' hospital.\\n\\nHe was still trying to figure out how to get out of the hospital when he heard the sound of a car pulling up outside. He looked out')\n",
      "--------------------------------------------------\n",
      "361 ('What kind of parent trusts a kid in high school to drive such an expensive car? I guess my dad isn’t the only one.\\nThe school looks more', ' like a high school than a college. It’s a big building with a lot of windows and a lot of people. There are a lot of cars parked in')\n",
      "--------------------------------------------------\n",
      "362 ('\"You know,\" Molly said, smiling and placing a hand on Monson, \"Monson is automatically on the team.\"\\n\"What?!\" Monson', ' said, looking at her.\\n\"You\\'re on the team,\" Molly said, \"You\\'re the only one who can do it.\"\\n\"I can')\n",
      "--------------------------------------------------\n",
      "363 ('The father doll fell to the ground. Magda tugged the smaller doll from the swing. She gripped the mother and child dolls in one hand and', ' the father doll in the other. She held them up to the sky.\\n\\n\"I am the mother of all dolls,\" she said. \"I am')\n",
      "--------------------------------------------------\n",
      "364 ('Had she not called and I not agreed to aid you, you would soon be meeting my brother.”\\n“Oh.”\\nHypnos walked back to the', ' table and sat down. “I am not going to kill you, but I will not be nice about it either. I will not be nice about anything.')\n",
      "--------------------------------------------------\n",
      "365 ('If Rick had been guilty of wanting Ev out of the way, why would he then be so stupid to ask Jay to generate reports from the system?  Jay', ' had been a good friend to him, and he had been a good friend to Ev.  He had been a good friend to Ev, and he had been')\n",
      "--------------------------------------------------\n",
      "366 ('“Well,” said Vandar, “how can I help you?”\\n“When we were studying the history of Frizland,” began Maximilian, “', 'we came across a reference to a man named Vance. We were wondering if you knew anything about him.”\\nVandar shook his head. “I’m')\n",
      "--------------------------------------------------\n",
      "367 ('Kate, do you have time to sit for a minute?”\\n\\n“Sure do, the brunch rush is about over. It’ll be pretty \\n\\nslow', '.”\\n\\n“Great, I’ll be right back.”\\n\\nKate nodded and went back to the table. She sat down and \\n\\nlooked at the menu.')\n",
      "--------------------------------------------------\n",
      "368 ('And last night as well ... in fact it really started yesterday. I was going to tell you, but then I was afraid you wouldn\\'t believe me.\"\\n\\n', '\"I believe you now.\"\\n\\n\"I know you do. I\\'m sorry I didn\\'t tell you sooner. I just didn\\'t want to worry you.')\n",
      "--------------------------------------------------\n",
      "369 ('No, there was no seemed about it, she did understand. Or, he thought, if not understand, she certainly accepted. Yes, that’s perhaps the', ' best way to put it.\\n\\n“You’re not going to tell me?”\\n\\n“You’ll find out soon enough.”\\n\\n“You’re not going to')\n",
      "--------------------------------------------------\n",
      "370 ('She could see Kim’s body lying in her living room battered and burned.\\n“Ms. Castillo, are you okay?” asked Officer Vasquez.\\n', '“Yes, I’m fine. I’m just a little shaken up.”\\n“You’re sure you’re okay?”\\n“Yes, I’m sure.”')\n",
      "--------------------------------------------------\n",
      "371 ('There were some quick glances between siblings: the Andrastes knew about the prophecy. Adonis raised his sleek eyebrows, playing it cooler than his offspring.', '\\n\\n\"I\\'m not sure I understand,\" he said. \"What prophecy?\"\\n\\n\"The one about the Maker,\" said the boy. \"The one about')\n",
      "--------------------------------------------------\n",
      "372 ('Nijil’s hand went limp, and her body grew still as her last breath escaped away. Lachelie kissed her lightly on the forehead, then embraced', ' her.\\n\\n“You did well, my dear,” she said. “You did well.”\\n\\n“Thank you,” Nijil said, her voice barely')\n",
      "--------------------------------------------------\n",
      "373 ('Poor Sean. She was supposed to make a difference. But not this time... \"Are you sure?\"\\n\\n\"He was wearing a Medic Alert bracelet,\"', ' she said. \"I checked.\"\\n\\n\"I\\'m sorry,\" he said. \"I\\'m so sorry.\"\\n\\n\"I know,\" she said. \"I')\n",
      "--------------------------------------------------\n",
      "374 ('Our fate as a people may depend in great measure on how we cast our votes this day. This may very well be our last hope for redeeming this nation', ' from the abyss of ruin and destruction.\\nThe people of the United States of America are not a bunch of ignorant, lazy, and stupid people. They')\n",
      "--------------------------------------------------\n",
      "375 ('\"I bet this is the window Connor came in and out of when they were here,\" I said, climbing out.\\n\\nI looked down, seeing the AC', 'ME logo on the door.\\n\\n\"I\\'m going to go in,\" I said, walking in.\\n\\n\"I\\'ll go with you,\" Connor said,')\n",
      "--------------------------------------------------\n",
      "376 ('You hightailed out of our company as if you couldn’t wait to get away.” \\n“I told you that I had stuff to do,\" Lorenzo stated.', ' \\n“You told me that you had a lot of stuff to do,” the man said. “You told me that you had a lot of stuff to do')\n",
      "--------------------------------------------------\n",
      "377 ('He gestures wide. \"We are all storks here, condemned to be unwound-but we\\'ve taken back our lives, and we\\'re taking our revenge', '.\"\\n\\n\"I\\'m not sure I understand,\" I say.\\n\\n\"We\\'re going to take back our lives,\" he repeats. \"We\\'re going to')\n",
      "--------------------------------------------------\n"
     ]
    }
   ],
   "source": [
    "for factor in [0., 0.5, 1.0, 1.5, 2.0, -0.5, -1.0, -1.5, -2.0]:\n",
    "    generated_data = []\n",
    "    for idx, sample in enumerate(lambada_data):\n",
    "        input_ids = model.tokenizer.encode(sample)\n",
    "        input_ids = input_ids[:32]\n",
    "        input_str = model.tokenizer.decode(input_ids)\n",
    "        # print(input_str)\n",
    "        output_ids = model.generate(input_ids, control_coeff=factor, max_length=32, top_k=1)\n",
    "        output_str = model.tokenizer.decode(output_ids)\n",
    "        generated_data.append((input_str, output_str))\n",
    "        print(idx, (input_str, output_str))\n",
    "        print('-' * 50)\n",
    "    save_data(generated_data, f'emotion_{factor}.pkl')"
   ]
  },
  {
   "cell_type": "code",
   "execution_count": 26,
   "metadata": {
    "tags": []
   },
   "outputs": [],
   "source": []
  },
  {
   "cell_type": "code",
   "execution_count": null,
   "metadata": {},
   "outputs": [],
   "source": []
  }
 ],
 "metadata": {
  "kernelspec": {
   "display_name": "Python 3 (ipykernel)",
   "language": "python",
   "name": "python3"
  },
  "language_info": {
   "codemirror_mode": {
    "name": "ipython",
    "version": 3
   },
   "file_extension": ".py",
   "mimetype": "text/x-python",
   "name": "python",
   "nbconvert_exporter": "python",
   "pygments_lexer": "ipython3",
   "version": "3.8.10"
  }
 },
 "nbformat": 4,
 "nbformat_minor": 4
}
